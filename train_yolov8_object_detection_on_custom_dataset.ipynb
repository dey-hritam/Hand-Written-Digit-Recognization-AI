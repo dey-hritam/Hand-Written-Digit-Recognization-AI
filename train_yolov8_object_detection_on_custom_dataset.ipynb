{
  "cells": [
    {
      "cell_type": "markdown",
      "metadata": {
        "id": "view-in-github",
        "colab_type": "text"
      },
      "source": [
        "<a href=\"https://colab.research.google.com/github/dey-hritam/ML-Projects/blob/main/train_yolov8_object_detection_on_custom_dataset.ipynb\" target=\"_parent\"><img src=\"https://colab.research.google.com/assets/colab-badge.svg\" alt=\"Open In Colab\"/></a>"
      ]
    },
    {
      "cell_type": "markdown",
      "metadata": {
        "id": "FyRdDYkqAKN4"
      },
      "source": [
        "## Before you start\n",
        "\n",
        "Let's make sure that we have access to GPU. We can use `nvidia-smi` command to do that. In case of any problems navigate to `Edit` -> `Notebook settings` -> `Hardware accelerator`, set it to `GPU`, and then click `Save`."
      ]
    },
    {
      "cell_type": "code",
      "execution_count": 24,
      "metadata": {
        "colab": {
          "base_uri": "https://localhost:8080/"
        },
        "id": "Y8cDtxLIBHgQ",
        "outputId": "3d356da7-d396-4e79-83b1-84daa76d15cc"
      },
      "outputs": [
        {
          "output_type": "stream",
          "name": "stdout",
          "text": [
            "Mon Dec 25 16:56:26 2023       \n",
            "+---------------------------------------------------------------------------------------+\n",
            "| NVIDIA-SMI 535.104.05             Driver Version: 535.104.05   CUDA Version: 12.2     |\n",
            "|-----------------------------------------+----------------------+----------------------+\n",
            "| GPU  Name                 Persistence-M | Bus-Id        Disp.A | Volatile Uncorr. ECC |\n",
            "| Fan  Temp   Perf          Pwr:Usage/Cap |         Memory-Usage | GPU-Util  Compute M. |\n",
            "|                                         |                      |               MIG M. |\n",
            "|=========================================+======================+======================|\n",
            "|   0  Tesla T4                       Off | 00000000:00:04.0 Off |                    0 |\n",
            "| N/A   77C    P0              32W /  70W |    397MiB / 15360MiB |      0%      Default |\n",
            "|                                         |                      |                  N/A |\n",
            "+-----------------------------------------+----------------------+----------------------+\n",
            "                                                                                         \n",
            "+---------------------------------------------------------------------------------------+\n",
            "| Processes:                                                                            |\n",
            "|  GPU   GI   CI        PID   Type   Process name                            GPU Memory |\n",
            "|        ID   ID                                                             Usage      |\n",
            "|=======================================================================================|\n",
            "+---------------------------------------------------------------------------------------+\n"
          ]
        }
      ],
      "source": [
        "!nvidia-smi"
      ]
    },
    {
      "cell_type": "code",
      "execution_count": 25,
      "metadata": {
        "colab": {
          "base_uri": "https://localhost:8080/"
        },
        "id": "CjpPg4mGKc1v",
        "outputId": "77c1e096-41f3-47b9-b033-7bb062a5bd74"
      },
      "outputs": [
        {
          "output_type": "stream",
          "name": "stdout",
          "text": [
            "/content\n"
          ]
        }
      ],
      "source": [
        "import os\n",
        "HOME = os.getcwd()\n",
        "print(HOME)"
      ]
    },
    {
      "cell_type": "markdown",
      "metadata": {
        "id": "3C3EO_2zNChu"
      },
      "source": [
        "## Install YOLOv8\n",
        "\n",
        "⚠️ YOLOv8 is still under heavy development. Breaking changes are being introduced almost weekly. We strive to make our YOLOv8 notebooks work with the latest version of the library. Last tests took place on **27.01.2023** with version **YOLOv8.0.20**.\n",
        "\n",
        "If you notice that our notebook behaves incorrectly - especially if you experience errors that prevent you from going through the tutorial - don't hesitate! Let us know and open an [issue](https://github.com/roboflow/notebooks/issues) on the Roboflow Notebooks repository.\n",
        "\n",
        "YOLOv8 can be installed in two ways - from the source and via pip. This is because it is the first iteration of YOLO to have an official package."
      ]
    },
    {
      "cell_type": "code",
      "execution_count": 26,
      "metadata": {
        "colab": {
          "base_uri": "https://localhost:8080/"
        },
        "id": "tdSMcABDNKW-",
        "outputId": "bc054cb8-4071-4e53-ef09-7bded5e72692"
      },
      "outputs": [
        {
          "output_type": "stream",
          "name": "stderr",
          "text": [
            "Ultralytics YOLOv8.0.20 🚀 Python-3.10.12 torch-2.1.0+cu121 CUDA:0 (Tesla T4, 15102MiB)\n",
            "Setup complete ✅ (2 CPUs, 12.7 GB RAM, 27.0/78.2 GB disk)\n"
          ]
        }
      ],
      "source": [
        "# Pip install method (recommended)\n",
        "\n",
        "!pip install ultralytics==8.0.20\n",
        "\n",
        "from IPython import display\n",
        "display.clear_output()\n",
        "\n",
        "import ultralytics\n",
        "ultralytics.checks()"
      ]
    },
    {
      "cell_type": "code",
      "execution_count": 27,
      "metadata": {
        "id": "iVvaIYEEPOty"
      },
      "outputs": [],
      "source": [
        "# Git clone method (for development)\n",
        "\n",
        "# %cd {HOME}\n",
        "# !git clone github.com/ultralytics/ultralytics\n",
        "# %cd {HOME}/ultralytics\n",
        "# !pip install -e .\n",
        "\n",
        "# from IPython import display\n",
        "# display.clear_output()\n",
        "\n",
        "# import ultralytics\n",
        "# ultralytics.checks()"
      ]
    },
    {
      "cell_type": "code",
      "execution_count": 28,
      "metadata": {
        "id": "VOEYrlBoP9-E"
      },
      "outputs": [],
      "source": [
        "from ultralytics import YOLO\n",
        "\n",
        "from IPython.display import display, Image"
      ]
    },
    {
      "cell_type": "markdown",
      "metadata": {
        "id": "K33S7zlkQku0"
      },
      "source": [
        "If you want to train, validate or run inference on models and don't need to make any modifications to the code, using YOLO command line interface is the easiest way to get started. Read more about CLI in [Ultralytics YOLO Docs](https://docs.ultralytics.com/usage/cli/).\n",
        "\n",
        "```\n",
        "yolo task=detect    mode=train    model=yolov8n.yaml      args...\n",
        "          classify       predict        yolov8n-cls.yaml  args...\n",
        "          segment        val            yolov8n-seg.yaml  args...\n",
        "                         export         yolov8n.pt        format=onnx  args...\n",
        "```"
      ]
    },
    {
      "cell_type": "code",
      "execution_count": 29,
      "metadata": {
        "colab": {
          "base_uri": "https://localhost:8080/"
        },
        "id": "BSd93ZJzZZKt",
        "outputId": "ff5c8aba-3f62-42ae-e53d-05f1c099fc24"
      },
      "outputs": [
        {
          "output_type": "stream",
          "name": "stdout",
          "text": [
            "mkdir: cannot create directory ‘/content/datasets’: File exists\n",
            "/content/datasets\n",
            "Requirement already satisfied: roboflow in /usr/local/lib/python3.10/dist-packages (1.1.14)\n",
            "Requirement already satisfied: certifi==2023.7.22 in /usr/local/lib/python3.10/dist-packages (from roboflow) (2023.7.22)\n",
            "Requirement already satisfied: chardet==4.0.0 in /usr/local/lib/python3.10/dist-packages (from roboflow) (4.0.0)\n",
            "Requirement already satisfied: cycler==0.10.0 in /usr/local/lib/python3.10/dist-packages (from roboflow) (0.10.0)\n",
            "Requirement already satisfied: idna==2.10 in /usr/local/lib/python3.10/dist-packages (from roboflow) (2.10)\n",
            "Requirement already satisfied: kiwisolver>=1.3.1 in /usr/local/lib/python3.10/dist-packages (from roboflow) (1.4.5)\n",
            "Requirement already satisfied: matplotlib in /usr/local/lib/python3.10/dist-packages (from roboflow) (3.7.1)\n",
            "Requirement already satisfied: numpy>=1.18.5 in /usr/local/lib/python3.10/dist-packages (from roboflow) (1.23.5)\n",
            "Requirement already satisfied: opencv-python-headless==4.8.0.74 in /usr/local/lib/python3.10/dist-packages (from roboflow) (4.8.0.74)\n",
            "Requirement already satisfied: Pillow>=7.1.2 in /usr/local/lib/python3.10/dist-packages (from roboflow) (9.4.0)\n",
            "Requirement already satisfied: pyparsing==2.4.7 in /usr/local/lib/python3.10/dist-packages (from roboflow) (2.4.7)\n",
            "Requirement already satisfied: python-dateutil in /usr/local/lib/python3.10/dist-packages (from roboflow) (2.8.2)\n",
            "Requirement already satisfied: python-dotenv in /usr/local/lib/python3.10/dist-packages (from roboflow) (1.0.0)\n",
            "Requirement already satisfied: requests in /usr/local/lib/python3.10/dist-packages (from roboflow) (2.31.0)\n",
            "Requirement already satisfied: six in /usr/local/lib/python3.10/dist-packages (from roboflow) (1.16.0)\n",
            "Requirement already satisfied: supervision in /usr/local/lib/python3.10/dist-packages (from roboflow) (0.17.1)\n",
            "Requirement already satisfied: urllib3>=1.26.6 in /usr/local/lib/python3.10/dist-packages (from roboflow) (2.0.7)\n",
            "Requirement already satisfied: tqdm>=4.41.0 in /usr/local/lib/python3.10/dist-packages (from roboflow) (4.66.1)\n",
            "Requirement already satisfied: PyYAML>=5.3.1 in /usr/local/lib/python3.10/dist-packages (from roboflow) (6.0.1)\n",
            "Requirement already satisfied: requests-toolbelt in /usr/local/lib/python3.10/dist-packages (from roboflow) (1.0.0)\n",
            "Requirement already satisfied: python-magic in /usr/local/lib/python3.10/dist-packages (from roboflow) (0.4.27)\n",
            "Requirement already satisfied: contourpy>=1.0.1 in /usr/local/lib/python3.10/dist-packages (from matplotlib->roboflow) (1.2.0)\n",
            "Requirement already satisfied: fonttools>=4.22.0 in /usr/local/lib/python3.10/dist-packages (from matplotlib->roboflow) (4.46.0)\n",
            "Requirement already satisfied: packaging>=20.0 in /usr/local/lib/python3.10/dist-packages (from matplotlib->roboflow) (23.2)\n",
            "Requirement already satisfied: charset-normalizer<4,>=2 in /usr/local/lib/python3.10/dist-packages (from requests->roboflow) (3.3.2)\n",
            "Requirement already satisfied: scipy>=1.9.0 in /usr/local/lib/python3.10/dist-packages (from supervision->roboflow) (1.11.4)\n",
            "loading Roboflow workspace...\n",
            "loading Roboflow project...\n",
            "Dependency ultralytics==8.0.196 is required but found version=8.0.20, to fix: `pip install ultralytics==8.0.196`\n"
          ]
        },
        {
          "output_type": "stream",
          "name": "stderr",
          "text": [
            "Downloading Dataset Version Zip in Substation-elements-detection-1 to yolov8:: 100%|██████████| 260556/260556 [00:12<00:00, 21201.69it/s]"
          ]
        },
        {
          "output_type": "stream",
          "name": "stdout",
          "text": [
            "\n"
          ]
        },
        {
          "output_type": "stream",
          "name": "stderr",
          "text": [
            "\n",
            "Extracting Dataset Version Zip to Substation-elements-detection-1 in yolov8:: 100%|██████████| 7128/7128 [00:03<00:00, 1793.88it/s]\n"
          ]
        }
      ],
      "source": [
        "!mkdir {HOME}/datasets\n",
        "%cd {HOME}/datasets\n",
        "\n",
        "!pip install roboflow\n",
        "\n",
        "from roboflow import Roboflow\n",
        "rf = Roboflow(api_key=\"237qf1C0rTD5fdpeJYtK\")\n",
        "project = rf.workspace(\"hritam-dey-qe7ue\").project(\"substation-elements-detection\")\n",
        "dataset = project.version(1).download(\"yolov8\")\n"
      ]
    },
    {
      "cell_type": "markdown",
      "metadata": {
        "id": "YUjFBKKqXa-u"
      },
      "source": [
        "## Custom Training"
      ]
    },
    {
      "cell_type": "code",
      "execution_count": 30,
      "metadata": {
        "colab": {
          "base_uri": "https://localhost:8080/"
        },
        "id": "D2YkphuiaE7_",
        "outputId": "28b8bbfc-c458-48b7-9c9e-0e6f037cfa43"
      },
      "outputs": [
        {
          "output_type": "stream",
          "name": "stdout",
          "text": [
            "/content\n",
            "Ultralytics YOLOv8.0.20 🚀 Python-3.10.12 torch-2.1.0+cu121 CUDA:0 (Tesla T4, 15102MiB)\n",
            "\u001b[34m\u001b[1myolo/engine/trainer: \u001b[0mtask=detect, mode=train, model=yolov8s.yaml, data=/content/datasets/Substation-elements-detection-1/data.yaml, epochs=25, patience=50, batch=16, imgsz=800, save=True, cache=False, device=, workers=8, project=None, name=None, exist_ok=False, pretrained=False, optimizer=SGD, verbose=True, seed=0, deterministic=True, single_cls=False, image_weights=False, rect=False, cos_lr=False, close_mosaic=10, resume=False, overlap_mask=True, mask_ratio=4, dropout=False, val=True, save_json=False, save_hybrid=False, conf=0.001, iou=0.7, max_det=300, half=False, dnn=False, plots=True, source=ultralytics/assets/, show=False, save_txt=False, save_conf=False, save_crop=False, hide_labels=False, hide_conf=False, vid_stride=1, line_thickness=3, visualize=False, augment=False, agnostic_nms=False, classes=None, retina_masks=False, boxes=True, format=torchscript, keras=False, optimize=False, int8=False, dynamic=False, simplify=False, opset=17, workspace=4, nms=False, lr0=0.01, lrf=0.01, momentum=0.937, weight_decay=0.001, warmup_epochs=3.0, warmup_momentum=0.8, warmup_bias_lr=0.1, box=7.5, cls=0.5, dfl=1.5, fl_gamma=0.0, label_smoothing=0.0, nbs=64, hsv_h=0.015, hsv_s=0.7, hsv_v=0.4, degrees=0.0, translate=0.1, scale=0.5, shear=0.0, perspective=0.0, flipud=0.0, fliplr=0.5, mosaic=1.0, mixup=0.0, copy_paste=0.0, cfg=None, v5loader=False, save_dir=runs/detect/train2\n",
            "2023-12-25 16:57:07.279940: E external/local_xla/xla/stream_executor/cuda/cuda_dnn.cc:9261] Unable to register cuDNN factory: Attempting to register factory for plugin cuDNN when one has already been registered\n",
            "2023-12-25 16:57:07.279989: E external/local_xla/xla/stream_executor/cuda/cuda_fft.cc:607] Unable to register cuFFT factory: Attempting to register factory for plugin cuFFT when one has already been registered\n",
            "2023-12-25 16:57:07.281258: E external/local_xla/xla/stream_executor/cuda/cuda_blas.cc:1515] Unable to register cuBLAS factory: Attempting to register factory for plugin cuBLAS when one has already been registered\n",
            "2023-12-25 16:57:08.358467: W tensorflow/compiler/tf2tensorrt/utils/py_utils.cc:38] TF-TRT Warning: Could not find TensorRT\n",
            "Overriding model.yaml nc=80 with nc=14\n",
            "\n",
            "                   from  n    params  module                                       arguments                     \n",
            "  0                  -1  1       928  ultralytics.nn.modules.Conv                  [3, 32, 3, 2]                 \n",
            "  1                  -1  1     18560  ultralytics.nn.modules.Conv                  [32, 64, 3, 2]                \n",
            "  2                  -1  1     29056  ultralytics.nn.modules.C2f                   [64, 64, 1, True]             \n",
            "  3                  -1  1     73984  ultralytics.nn.modules.Conv                  [64, 128, 3, 2]               \n",
            "  4                  -1  2    197632  ultralytics.nn.modules.C2f                   [128, 128, 2, True]           \n",
            "  5                  -1  1    295424  ultralytics.nn.modules.Conv                  [128, 256, 3, 2]              \n",
            "  6                  -1  2    788480  ultralytics.nn.modules.C2f                   [256, 256, 2, True]           \n",
            "  7                  -1  1   1180672  ultralytics.nn.modules.Conv                  [256, 512, 3, 2]              \n",
            "  8                  -1  1   1838080  ultralytics.nn.modules.C2f                   [512, 512, 1, True]           \n",
            "  9                  -1  1    656896  ultralytics.nn.modules.SPPF                  [512, 512, 5]                 \n",
            " 10                  -1  1         0  torch.nn.modules.upsampling.Upsample         [None, 2, 'nearest']          \n",
            " 11             [-1, 6]  1         0  ultralytics.nn.modules.Concat                [1]                           \n",
            " 12                  -1  1    591360  ultralytics.nn.modules.C2f                   [768, 256, 1]                 \n",
            " 13                  -1  1         0  torch.nn.modules.upsampling.Upsample         [None, 2, 'nearest']          \n",
            " 14             [-1, 4]  1         0  ultralytics.nn.modules.Concat                [1]                           \n",
            " 15                  -1  1    148224  ultralytics.nn.modules.C2f                   [384, 128, 1]                 \n",
            " 16                  -1  1    147712  ultralytics.nn.modules.Conv                  [128, 128, 3, 2]              \n",
            " 17            [-1, 12]  1         0  ultralytics.nn.modules.Concat                [1]                           \n",
            " 18                  -1  1    493056  ultralytics.nn.modules.C2f                   [384, 256, 1]                 \n",
            " 19                  -1  1    590336  ultralytics.nn.modules.Conv                  [256, 256, 3, 2]              \n",
            " 20             [-1, 9]  1         0  ultralytics.nn.modules.Concat                [1]                           \n",
            " 21                  -1  1   1969152  ultralytics.nn.modules.C2f                   [768, 512, 1]                 \n",
            " 22        [15, 18, 21]  1   2121466  ultralytics.nn.modules.Detect                [14, [128, 256, 512]]         \n",
            "Model summary: 225 layers, 11141018 parameters, 11141002 gradients, 28.7 GFLOPs\n",
            "\n",
            "Transferred 349/355 items from pretrained weights\n",
            "\u001b[34m\u001b[1moptimizer:\u001b[0m SGD(lr=0.01) with parameter groups 57 weight(decay=0.0), 64 weight(decay=0.001), 63 bias\n",
            "\u001b[34m\u001b[1mtrain: \u001b[0mScanning /content/datasets/Substation-elements-detection-1/train/labels.cache... 3060 images, 0 backgrounds, 0 corrupt: 100% 3060/3060 [00:00<?, ?it/s]\n",
            "\u001b[34m\u001b[1mtrain: \u001b[0mWARNING ⚠️ /content/datasets/Substation-elements-detection-1/train/images/2022-05-31_p2_P2_C27_X1123_Y0_Z-10_A459_E420_rgb_HD_jpg.rf.b13234743dcb0421e4cc43d859841c4c.jpg: 1 duplicate labels removed\n",
            "\u001b[34m\u001b[1mtrain: \u001b[0mWARNING ⚠️ /content/datasets/Substation-elements-detection-1/train/images/2022-07-26_p4_P4_C037_X1123_Y0_Z-62_A1344_E300_rgb_HD_jpg.rf.8f22477f39baf9380415e17f639ea66b.jpg: 1 duplicate labels removed\n",
            "\u001b[34m\u001b[1mtrain: \u001b[0mWARNING ⚠️ /content/datasets/Substation-elements-detection-1/train/images/2022-07-26_p4_P4_C046_X1434_Y0_Z-10_A449_E260_rgb_HD_jpg.rf.8583e16b03d226ad529bc430563ed004.jpg: 1 duplicate labels removed\n",
            "\u001b[34m\u001b[1mtrain: \u001b[0mWARNING ⚠️ /content/datasets/Substation-elements-detection-1/train/images/FLIR0249_rgb-2-_jpg.rf.ec84ca4078505f93115e3245479fa9c8.jpg: 1 duplicate labels removed\n",
            "\u001b[34m\u001b[1malbumentations: \u001b[0mBlur(p=0.01, blur_limit=(3, 7)), MedianBlur(p=0.01, blur_limit=(3, 7)), ToGray(p=0.01), CLAHE(p=0.01, clip_limit=(1, 4.0), tile_grid_size=(8, 8))\n",
            "\u001b[34m\u001b[1mval: \u001b[0mScanning /content/datasets/Substation-elements-detection-1/valid/labels.cache... 332 images, 0 backgrounds, 0 corrupt: 100% 332/332 [00:00<?, ?it/s]\n",
            "\u001b[34m\u001b[1mval: \u001b[0mWARNING ⚠️ /content/datasets/Substation-elements-detection-1/valid/images/FLIR0394_rgb_jpg.rf.b80e045f092aa88c1d944712c78b5ea7.jpg: 1 duplicate labels removed\n",
            "\u001b[34m\u001b[1mval: \u001b[0mWARNING ⚠️ /content/datasets/Substation-elements-detection-1/valid/images/FLIR0934_rgb_jpg.rf.970a202c7c67332a4e558c78e95d16d8.jpg: 3 duplicate labels removed\n",
            "Image sizes 800 train, 800 val\n",
            "Using 2 dataloader workers\n",
            "Logging results to \u001b[1mruns/detect/train2\u001b[0m\n",
            "Starting training for 25 epochs...\n",
            "\n",
            "      Epoch    GPU_mem   box_loss   cls_loss   dfl_loss  Instances       Size\n",
            "       1/25      11.9G      2.263       2.97       1.61        142        800: 100% 192/192 [03:34<00:00,  1.12s/it]\n",
            "                 Class     Images  Instances      Box(P          R      mAP50  mAP50-95): 100% 11/11 [00:11<00:00,  1.04s/it]\n",
            "                   all        332      10250       0.34      0.242      0.229      0.104\n",
            "               Breaker        332        169      0.419      0.509      0.482      0.248\n",
            "Closed blade disconnect switch        332       1023      0.483      0.486      0.455      0.212\n",
            "Closed tandem disconnect switch        332        183       0.11     0.0164     0.0327     0.0107\n",
            "   Current transformer        332        468      0.371      0.175      0.142     0.0569\n",
            "Fuse disconnect switch        332         92          0          0      0.105     0.0464\n",
            "  Glass disc insulator        332        705      0.383      0.203      0.194     0.0901\n",
            "    Lightning arrester        332        425      0.464     0.0682      0.101     0.0409\n",
            "                Muffle        332        347          0          0     0.0227    0.00598\n",
            "Open tandem disconnect switch        332        292      0.237    0.00545     0.0136    0.00504\n",
            "Porcelain pin insulator        332       5342      0.442      0.542      0.502      0.238\n",
            " Potential transformer        332        109      0.581       0.22      0.257       0.13\n",
            "     Power transformer        332        150      0.451      0.273       0.22     0.0669\n",
            "              Recloser        332        491      0.568      0.426      0.425      0.191\n",
            "Tripolar disconnect switch        332        454      0.247      0.458      0.254      0.113\n",
            "\n",
            "      Epoch    GPU_mem   box_loss   cls_loss   dfl_loss  Instances       Size\n",
            "       2/25      13.1G      1.928      1.856      1.383        186        800: 100% 192/192 [03:20<00:00,  1.04s/it]\n",
            "                 Class     Images  Instances      Box(P          R      mAP50  mAP50-95): 100% 11/11 [00:09<00:00,  1.10it/s]\n",
            "                   all        332      10250      0.544      0.327      0.348      0.162\n",
            "               Breaker        332        169      0.562      0.539      0.557       0.28\n",
            "Closed blade disconnect switch        332       1023      0.592      0.592      0.585      0.329\n",
            "Closed tandem disconnect switch        332        183      0.521     0.0654      0.132     0.0435\n",
            "   Current transformer        332        468      0.485      0.225      0.239     0.0894\n",
            "Fuse disconnect switch        332         92        0.8      0.217        0.3      0.185\n",
            "  Glass disc insulator        332        705      0.538      0.336      0.353       0.16\n",
            "    Lightning arrester        332        425      0.436      0.329      0.271     0.0998\n",
            "                Muffle        332        347      0.488      0.182      0.194     0.0585\n",
            "Open tandem disconnect switch        332        292      0.322     0.0103     0.0528      0.018\n",
            "Porcelain pin insulator        332       5342      0.396      0.632      0.546      0.248\n",
            " Potential transformer        332        109      0.479      0.248      0.238      0.106\n",
            "     Power transformer        332        150      0.651      0.333      0.371      0.125\n",
            "              Recloser        332        491      0.647      0.468      0.518       0.26\n",
            "Tripolar disconnect switch        332        454      0.699      0.407      0.516      0.263\n",
            "\n",
            "      Epoch    GPU_mem   box_loss   cls_loss   dfl_loss  Instances       Size\n",
            "       3/25      13.1G      1.845      1.601      1.325         92        800: 100% 192/192 [03:21<00:00,  1.05s/it]\n",
            "                 Class     Images  Instances      Box(P          R      mAP50  mAP50-95): 100% 11/11 [00:09<00:00,  1.20it/s]\n",
            "                   all        332      10250      0.621      0.432      0.471      0.224\n",
            "               Breaker        332        169      0.704      0.503      0.606      0.344\n",
            "Closed blade disconnect switch        332       1023      0.742      0.638      0.705       0.43\n",
            "Closed tandem disconnect switch        332        183      0.668       0.29      0.431      0.166\n",
            "   Current transformer        332        468      0.728      0.288      0.383      0.158\n",
            "Fuse disconnect switch        332         92      0.612      0.457      0.483      0.301\n",
            "  Glass disc insulator        332        705      0.605      0.492      0.502      0.237\n",
            "    Lightning arrester        332        425      0.553      0.372      0.391      0.137\n",
            "                Muffle        332        347        0.5      0.329      0.324      0.105\n",
            "Open tandem disconnect switch        332        292      0.426     0.0582      0.123     0.0371\n",
            "Porcelain pin insulator        332       5342      0.695      0.569      0.621      0.298\n",
            " Potential transformer        332        109      0.601       0.44      0.451      0.183\n",
            "     Power transformer        332        150      0.624      0.388      0.406      0.145\n",
            "              Recloser        332        491      0.704      0.568      0.592      0.306\n",
            "Tripolar disconnect switch        332        454      0.536      0.652      0.571      0.286\n",
            "\n",
            "      Epoch    GPU_mem   box_loss   cls_loss   dfl_loss  Instances       Size\n",
            "       4/25      13.1G      1.789      1.453      1.295        133        800: 100% 192/192 [03:17<00:00,  1.03s/it]\n",
            "                 Class     Images  Instances      Box(P          R      mAP50  mAP50-95): 100% 11/11 [00:08<00:00,  1.25it/s]\n",
            "                   all        332      10250      0.627      0.424      0.454      0.215\n",
            "               Breaker        332        169      0.611      0.527      0.545      0.291\n",
            "Closed blade disconnect switch        332       1023      0.708      0.669      0.715       0.43\n",
            "Closed tandem disconnect switch        332        183      0.674      0.481      0.546      0.189\n",
            "   Current transformer        332        468      0.493      0.393      0.376      0.153\n",
            "Fuse disconnect switch        332         92      0.618      0.522      0.508      0.305\n",
            "  Glass disc insulator        332        705      0.752      0.335      0.455      0.224\n",
            "    Lightning arrester        332        425      0.663      0.314      0.351      0.125\n",
            "                Muffle        332        347      0.414      0.308      0.296     0.0982\n",
            "Open tandem disconnect switch        332        292      0.332      0.158      0.134     0.0343\n",
            "Porcelain pin insulator        332       5342      0.639        0.6      0.604      0.292\n",
            " Potential transformer        332        109      0.768      0.358      0.413      0.194\n",
            "     Power transformer        332        150      0.725      0.187      0.256     0.0882\n",
            "              Recloser        332        491      0.789      0.487      0.583      0.292\n",
            "Tripolar disconnect switch        332        454      0.594      0.601      0.574      0.294\n",
            "\n",
            "      Epoch    GPU_mem   box_loss   cls_loss   dfl_loss  Instances       Size\n",
            "       5/25      13.1G      1.755      1.372      1.274        585        800:  57% 110/192 [02:01<01:30,  1.11s/it]\n",
            "Traceback (most recent call last):\n",
            "  File \"/usr/local/bin/yolo\", line 8, in <module>\n",
            "    sys.exit(entrypoint())\n",
            "  File \"/usr/local/lib/python3.10/dist-packages/ultralytics/yolo/cfg/__init__.py\", line 249, in entrypoint\n",
            "    getattr(model, mode)(verbose=True, **overrides)\n",
            "  File \"/usr/local/lib/python3.10/dist-packages/ultralytics/yolo/engine/model.py\", line 207, in train\n",
            "    self.trainer.train()\n",
            "  File \"/usr/local/lib/python3.10/dist-packages/ultralytics/yolo/engine/trainer.py\", line 183, in train\n",
            "    self._do_train(int(os.getenv(\"RANK\", -1)), world_size)\n",
            "  File \"/usr/local/lib/python3.10/dist-packages/ultralytics/yolo/engine/trainer.py\", line 302, in _do_train\n",
            "    self.loss, self.loss_items = self.criterion(preds, batch)\n",
            "  File \"/usr/local/lib/python3.10/dist-packages/ultralytics/yolo/v8/detect/train.py\", line 76, in criterion\n",
            "    return self.compute_loss(preds, batch)\n",
            "  File \"/usr/local/lib/python3.10/dist-packages/ultralytics/yolo/v8/detect/train.py\", line 174, in __call__\n",
            "    _, target_bboxes, target_scores, fg_mask, _ = self.assigner(\n",
            "  File \"/usr/local/lib/python3.10/dist-packages/torch/nn/modules/module.py\", line 1518, in _wrapped_call_impl\n",
            "    return self._call_impl(*args, **kwargs)\n",
            "  File \"/usr/local/lib/python3.10/dist-packages/torch/nn/modules/module.py\", line 1527, in _call_impl\n",
            "    return forward_call(*args, **kwargs)\n",
            "  File \"/usr/local/lib/python3.10/dist-packages/torch/utils/_contextlib.py\", line 115, in decorate_context\n",
            "    return func(*args, **kwargs)\n",
            "  File \"/usr/local/lib/python3.10/dist-packages/ultralytics/yolo/utils/tal.py\", line 94, in forward\n",
            "    mask_pos, align_metric, overlaps = self.get_pos_mask(pd_scores, pd_bboxes, gt_labels, gt_bboxes, anc_points,\n",
            "  File \"/usr/local/lib/python3.10/dist-packages/ultralytics/yolo/utils/tal.py\", line 117, in get_pos_mask\n",
            "    mask_topk = self.select_topk_candidates(align_metric * mask_in_gts,\n",
            "  File \"/usr/local/lib/python3.10/dist-packages/ultralytics/yolo/utils/tal.py\", line 150, in select_topk_candidates\n",
            "    is_in_topk = F.one_hot(topk_idxs, num_anchors).sum(-2)\n",
            "torch.cuda.OutOfMemoryError: CUDA out of memory. Tried to allocate 5.52 GiB. GPU 0 has a total capacty of 14.75 GiB of which 1.92 GiB is free. Process 4137 has 394.00 MiB memory in use. Process 58660 has 12.44 GiB memory in use. Of the allocated memory 5.80 GiB is allocated by PyTorch, and 6.41 GiB is reserved by PyTorch but unallocated. If reserved but unallocated memory is large try setting max_split_size_mb to avoid fragmentation.  See documentation for Memory Management and PYTORCH_CUDA_ALLOC_CONF\n",
            "Sentry is attempting to send 2 pending events\n",
            "Waiting up to 2 seconds\n",
            "Press Ctrl-C to quit\n"
          ]
        }
      ],
      "source": [
        "%cd {HOME}\n",
        "\n",
        "!yolo task=detect mode=train model=yolov8s.pt data={dataset.location}/data.yaml epochs=25 imgsz=800 plots=True"
      ]
    },
    {
      "cell_type": "code",
      "execution_count": 31,
      "metadata": {
        "colab": {
          "base_uri": "https://localhost:8080/"
        },
        "id": "1MScstfHhArr",
        "outputId": "e160577f-332b-4f92-91dc-dccabf0eb948"
      },
      "outputs": [
        {
          "output_type": "stream",
          "name": "stdout",
          "text": [
            "args.yaml\t\t\t\t\t   results.csv\t     train_batch1.jpg\n",
            "confusion_matrix.png\t\t\t\t   results.png\t     train_batch2.jpg\n",
            "events.out.tfevents.1703521968.fe0a0eb42cbb.958.0  train_batch0.jpg  weights\n"
          ]
        }
      ],
      "source": [
        "!ls {HOME}/runs/detect/train/"
      ]
    },
    {
      "cell_type": "markdown",
      "metadata": {
        "id": "6ODk1VTlevxn"
      },
      "source": [
        "## Validate Custom Model"
      ]
    },
    {
      "cell_type": "code",
      "execution_count": 32,
      "metadata": {
        "id": "YpyuwrNlXc1P",
        "colab": {
          "base_uri": "https://localhost:8080/"
        },
        "outputId": "079914a9-83a8-400a-e9ce-f09b07a4fc5e"
      },
      "outputs": [
        {
          "output_type": "stream",
          "name": "stdout",
          "text": [
            "/content\n",
            "2023-12-25 17:13:40.051152: E external/local_xla/xla/stream_executor/cuda/cuda_dnn.cc:9261] Unable to register cuDNN factory: Attempting to register factory for plugin cuDNN when one has already been registered\n",
            "2023-12-25 17:13:40.051204: E external/local_xla/xla/stream_executor/cuda/cuda_fft.cc:607] Unable to register cuFFT factory: Attempting to register factory for plugin cuFFT when one has already been registered\n",
            "2023-12-25 17:13:40.052458: E external/local_xla/xla/stream_executor/cuda/cuda_blas.cc:1515] Unable to register cuBLAS factory: Attempting to register factory for plugin cuBLAS when one has already been registered\n",
            "2023-12-25 17:13:41.588720: W tensorflow/compiler/tf2tensorrt/utils/py_utils.cc:38] TF-TRT Warning: Could not find TensorRT\n",
            "Ultralytics YOLOv8.0.20 🚀 Python-3.10.12 torch-2.1.0+cu121 CUDA:0 (Tesla T4, 15102MiB)\n",
            "Model summary (fused): 168 layers, 11131002 parameters, 0 gradients, 28.5 GFLOPs\n",
            "\u001b[34m\u001b[1mval: \u001b[0mScanning /content/datasets/Substation-elements-detection-1/valid/labels.cache... 332 images, 0 backgrounds, 0 corrupt: 100% 332/332 [00:00<?, ?it/s]\n",
            "\u001b[34m\u001b[1mval: \u001b[0mWARNING ⚠️ /content/datasets/Substation-elements-detection-1/valid/images/FLIR0394_rgb_jpg.rf.b80e045f092aa88c1d944712c78b5ea7.jpg: 1 duplicate labels removed\n",
            "\u001b[34m\u001b[1mval: \u001b[0mWARNING ⚠️ /content/datasets/Substation-elements-detection-1/valid/images/FLIR0934_rgb_jpg.rf.970a202c7c67332a4e558c78e95d16d8.jpg: 3 duplicate labels removed\n",
            "                 Class     Images  Instances      Box(P          R      mAP50  mAP50-95): 100% 21/21 [00:35<00:00,  1.70s/it]\n",
            "                   all        332      10250      0.624      0.432      0.471      0.225\n",
            "               Breaker        332        169       0.71      0.507      0.605      0.344\n",
            "Closed blade disconnect switch        332       1023      0.743      0.638      0.705      0.431\n",
            "Closed tandem disconnect switch        332        183      0.677       0.29      0.437      0.167\n",
            "   Current transformer        332        468      0.726      0.288      0.385      0.159\n",
            "Fuse disconnect switch        332         92      0.612      0.457      0.484        0.3\n",
            "  Glass disc insulator        332        705       0.61      0.492      0.504      0.238\n",
            "    Lightning arrester        332        425      0.541      0.362      0.382      0.138\n",
            "                Muffle        332        347      0.517      0.337      0.332      0.107\n",
            "Open tandem disconnect switch        332        292      0.425     0.0582      0.122     0.0373\n",
            "Porcelain pin insulator        332       5342      0.696      0.569      0.621      0.299\n",
            " Potential transformer        332        109      0.611       0.44      0.444      0.187\n",
            "     Power transformer        332        150      0.624      0.388      0.408      0.145\n",
            "              Recloser        332        491      0.705      0.568      0.592      0.308\n",
            "Tripolar disconnect switch        332        454      0.536      0.652      0.571      0.286\n",
            "Speed: 5.1ms pre-process, 15.4ms inference, 0.0ms loss, 15.2ms post-process per image\n"
          ]
        }
      ],
      "source": [
        "%cd {HOME}\n",
        "\n",
        "!yolo task=detect mode=val model={HOME}/runs/detect/train/weights/best.pt data={dataset.location}/data.yaml"
      ]
    },
    {
      "cell_type": "markdown",
      "metadata": {
        "id": "i4eASbcWkQBq"
      },
      "source": [
        "## Inference with Custom Model"
      ]
    },
    {
      "cell_type": "code",
      "execution_count": 33,
      "metadata": {
        "id": "Wjc1ctZykYuf",
        "colab": {
          "base_uri": "https://localhost:8080/"
        },
        "outputId": "2f13cc48-2817-4c65-a9e4-bd1af4c352d9"
      },
      "outputs": [
        {
          "output_type": "stream",
          "name": "stdout",
          "text": [
            "/content\n",
            "2023-12-25 17:14:31.113098: E external/local_xla/xla/stream_executor/cuda/cuda_dnn.cc:9261] Unable to register cuDNN factory: Attempting to register factory for plugin cuDNN when one has already been registered\n",
            "2023-12-25 17:14:31.113138: E external/local_xla/xla/stream_executor/cuda/cuda_fft.cc:607] Unable to register cuFFT factory: Attempting to register factory for plugin cuFFT when one has already been registered\n",
            "2023-12-25 17:14:31.114327: E external/local_xla/xla/stream_executor/cuda/cuda_blas.cc:1515] Unable to register cuBLAS factory: Attempting to register factory for plugin cuBLAS when one has already been registered\n",
            "2023-12-25 17:14:32.246989: W tensorflow/compiler/tf2tensorrt/utils/py_utils.cc:38] TF-TRT Warning: Could not find TensorRT\n",
            "Ultralytics YOLOv8.0.20 🚀 Python-3.10.12 torch-2.1.0+cu121 CUDA:0 (Tesla T4, 15102MiB)\n",
            "Model summary (fused): 168 layers, 11131002 parameters, 0 gradients, 28.5 GFLOPs\n",
            "WARNING ⚠️ NMS time limit 0.550s exceeded\n",
            "image 1/166 /content/datasets/Substation-elements-detection-1/test/images/202107131406516153763_jpg.rf.fbcd496d0826a50d7f63dbcb35d78bb4.jpg: 800x800 3 Breakers, 1 Closed blade disconnect switch, 1 Glass disc insulator, 9 Porcelain pin insulators, 3 Power transformers, 22.5ms\n",
            "image 2/166 /content/datasets/Substation-elements-detection-1/test/images/202107131429105929021_jpg.rf.51f435886a5d0adf053cebc8f56f8c5f.jpg: 800x800 1 Closed blade disconnect switch, 5 Glass disc insulators, 3 Porcelain pin insulators, 4 Potential transformers, 2 Reclosers, 22.9ms\n",
            "image 3/166 /content/datasets/Substation-elements-detection-1/test/images/20210713_144152_jpg.rf.1589761540c2524846410bdc57dabc4e.jpg: 800x800 5 Breakers, 2 Glass disc insulators, 6 Lightning arresters, 1 Muffle, 20 Porcelain pin insulators, 1 Power transformer, 1 Recloser, 22.5ms\n",
            "image 4/166 /content/datasets/Substation-elements-detection-1/test/images/20210713_144335_jpg.rf.f27ba89f2b4fdeaa92c188aa83181a4b.jpg: 800x800 14 Closed blade disconnect switchs, 2 Current transformers, 6 Glass disc insulators, 72 Porcelain pin insulators, 4 Reclosers, 22.5ms\n",
            "image 5/166 /content/datasets/Substation-elements-detection-1/test/images/20210713_144442_jpg.rf.3d84478e7cdcaa737491d1d67b0ec79c.jpg: 800x800 1 Closed blade disconnect switch, 7 Lightning arresters, 3 Muffles, 7 Porcelain pin insulators, 1 Power transformer, 1 Recloser, 22.5ms\n",
            "image 6/166 /content/datasets/Substation-elements-detection-1/test/images/20210713_144532_jpg.rf.ab1b61f6c0758bc82eeeb2bd32684c37.jpg: 800x800 13 Closed blade disconnect switchs, 1 Closed tandem disconnect switch, 64 Porcelain pin insulators, 8 Potential transformers, 6 Reclosers, 1 Tripolar disconnect switch, 22.5ms\n",
            "image 7/166 /content/datasets/Substation-elements-detection-1/test/images/20210713_144855_jpg.rf.7c6141eb575989cc6a3f1d4b41bf583e.jpg: 800x800 1 Open tandem disconnect switch, 11 Porcelain pin insulators, 2 Power transformers, 2 Reclosers, 22.5ms\n",
            "image 8/166 /content/datasets/Substation-elements-detection-1/test/images/20210713_145025_jpg.rf.f203ecd10bc60dd775599d0d7df52fc2.jpg: 800x800 8 Closed blade disconnect switchs, 1 Current transformer, 13 Glass disc insulators, 5 Lightning arresters, 40 Porcelain pin insulators, 1 Recloser, 22.5ms\n",
            "image 9/166 /content/datasets/Substation-elements-detection-1/test/images/20210713_145032_jpg.rf.7e2ece95fe1bb8a320480f31f480f5b4.jpg: 800x800 4 Closed blade disconnect switchs, 11 Glass disc insulators, 9 Lightning arresters, 46 Porcelain pin insulators, 22.5ms\n",
            "image 10/166 /content/datasets/Substation-elements-detection-1/test/images/20210713_145132_jpg.rf.4d2b6ab3feacf5d44071e2a288a803fd.jpg: 800x800 3 Breakers, 2 Closed blade disconnect switchs, 6 Current transformers, 8 Glass disc insulators, 4 Lightning arresters, 23 Muffles, 26 Porcelain pin insulators, 3 Reclosers, 22.6ms\n",
            "image 11/166 /content/datasets/Substation-elements-detection-1/test/images/20210713_145136_jpg.rf.ae124a00c1763bfb6bd0259a4644e421.jpg: 800x800 6 Breakers, 1 Closed blade disconnect switch, 1 Closed tandem disconnect switch, 5 Current transformers, 6 Glass disc insulators, 5 Lightning arresters, 31 Muffles, 16 Porcelain pin insulators, 1 Power transformer, 2 Reclosers, 22.5ms\n",
            "image 12/166 /content/datasets/Substation-elements-detection-1/test/images/20210713_145214_jpg.rf.0b965df16ad18b6f7ce8ea3340b0bc46.jpg: 800x800 3 Breakers, 3 Closed blade disconnect switchs, 1 Glass disc insulator, 24 Porcelain pin insulators, 1 Power transformer, 22.6ms\n",
            "image 13/166 /content/datasets/Substation-elements-detection-1/test/images/20210713_145537_jpg.rf.90950bf149e2d4fd85aeb1fb90b792be.jpg: 800x800 4 Breakers, 3 Glass disc insulators, 2 Open tandem disconnect switchs, 22 Porcelain pin insulators, 22.5ms\n",
            "image 14/166 /content/datasets/Substation-elements-detection-1/test/images/20210713_145631_jpg.rf.1d8dbb4cb05cd4e9c8c3323e5ea34689.jpg: 800x800 3 Breakers, 6 Closed blade disconnect switchs, 3 Closed tandem disconnect switchs, 1 Lightning arrester, 6 Open tandem disconnect switchs, 34 Porcelain pin insulators, 2 Reclosers, 22.5ms\n",
            "image 15/166 /content/datasets/Substation-elements-detection-1/test/images/20210805_095740_jpg.rf.aa8b4349265a20cc54411e2133647f80.jpg: 800x800 1 Current transformer, 10 Porcelain pin insulators, 4 Reclosers, 22.5ms\n",
            "image 16/166 /content/datasets/Substation-elements-detection-1/test/images/20210805_095755_jpg.rf.a3632b1e4d5b6353b399524f8fd79d94.jpg: 800x800 1 Breaker, 5 Lightning arresters, 10 Porcelain pin insulators, 1 Recloser, 22.5ms\n",
            "image 17/166 /content/datasets/Substation-elements-detection-1/test/images/20210805_095942_jpg.rf.93cc496170f067c117bab071dd4ec168.jpg: 800x800 3 Porcelain pin insulators, 1 Power transformer, 1 Recloser, 22.5ms\n",
            "image 18/166 /content/datasets/Substation-elements-detection-1/test/images/20210805_100202_jpg.rf.ea48a087cc7d4bbef85d40d011964d24.jpg: 800x800 3 Breakers, 4 Closed blade disconnect switchs, 1 Glass disc insulator, 1 Lightning arrester, 3 Muffles, 16 Porcelain pin insulators, 1 Power transformer, 22.5ms\n",
            "image 19/166 /content/datasets/Substation-elements-detection-1/test/images/20210805_100246_jpg.rf.1fb305ef36a0090f8be3ef1bcdd38d7e.jpg: 800x800 9 Closed blade disconnect switchs, 1 Glass disc insulator, 53 Porcelain pin insulators, 2 Potential transformers, 4 Reclosers, 22.5ms\n",
            "image 20/166 /content/datasets/Substation-elements-detection-1/test/images/20210805_101511_jpg.rf.bb89fa9ecd7076503651f2793c74c7b7.jpg: 800x800 1 Current transformer, 4 Lightning arresters, 20 Muffles, 11 Porcelain pin insulators, 22.6ms\n",
            "image 21/166 /content/datasets/Substation-elements-detection-1/test/images/20210805_101926_jpg.rf.f6bf346ca29ad53eb35b5b6a4651e5c5.jpg: 800x800 4 Closed blade disconnect switchs, 15 Porcelain pin insulators, 1 Power transformer, 3 Reclosers, 22.5ms\n",
            "image 22/166 /content/datasets/Substation-elements-detection-1/test/images/20210805_101929_jpg.rf.ff26a045c638d7a3ea2521c02f437c4a.jpg: 800x800 6 Closed blade disconnect switchs, 1 Closed tandem disconnect switch, 25 Porcelain pin insulators, 1 Power transformer, 2 Reclosers, 22.5ms\n",
            "image 23/166 /content/datasets/Substation-elements-detection-1/test/images/20210811_091051_jpg.rf.268b970eb2b099a888156fcfd8157cd3.jpg: 800x800 4 Breakers, 8 Closed blade disconnect switchs, 3 Closed tandem disconnect switchs, 4 Lightning arresters, 6 Open tandem disconnect switchs, 33 Porcelain pin insulators, 1 Potential transformer, 23.6ms\n",
            "image 24/166 /content/datasets/Substation-elements-detection-1/test/images/20210811_091057_jpg.rf.f4953ae6aece5e472cc268395d1db349.jpg: 800x800 4 Breakers, 2 Lightning arresters, 12 Porcelain pin insulators, 4 Potential transformers, 2 Power transformers, 1 Recloser, 22.6ms\n",
            "image 25/166 /content/datasets/Substation-elements-detection-1/test/images/20210811_091305_jpg.rf.56a86792750e35d0396e54fd5fc45a4f.jpg: 800x800 1 Closed tandem disconnect switch, 2 Porcelain pin insulators, 22.5ms\n",
            "image 26/166 /content/datasets/Substation-elements-detection-1/test/images/20210811_091713_jpg.rf.37c191ef8e44ff6153ce754ccefd92bf.jpg: 800x800 1 Glass disc insulator, 2 Lightning arresters, 7 Porcelain pin insulators, 3 Potential transformers, 22.5ms\n",
            "image 27/166 /content/datasets/Substation-elements-detection-1/test/images/20210811_091919_jpg.rf.f3c00083484029257c97b041aebf112f.jpg: 800x800 2 Closed blade disconnect switchs, 3 Closed tandem disconnect switchs, 5 Glass disc insulators, 2 Lightning arresters, 2 Open tandem disconnect switchs, 24 Porcelain pin insulators, 22.6ms\n",
            "image 28/166 /content/datasets/Substation-elements-detection-1/test/images/20210811_093254_jpg.rf.8acd45f838ace4eff6921458bae77d38.jpg: 800x800 2 Breakers, 4 Closed blade disconnect switchs, 3 Closed tandem disconnect switchs, 2 Current transformers, 16 Glass disc insulators, 6 Lightning arresters, 3 Open tandem disconnect switchs, 38 Porcelain pin insulators, 4 Reclosers, 22.6ms\n",
            "image 29/166 /content/datasets/Substation-elements-detection-1/test/images/20210811_094421-0-_jpg.rf.5f9fa5caebf15708d4ffc13299decb3f.jpg: 800x800 4 Breakers, 5 Closed blade disconnect switchs, 4 Closed tandem disconnect switchs, 29 Porcelain pin insulators, 1 Potential transformer, 1 Power transformer, 3 Reclosers, 22.5ms\n",
            "image 30/166 /content/datasets/Substation-elements-detection-1/test/images/20210811_094421_jpg.rf.638d3dfb7bc30314f88718968983f39b.jpg: 800x800 5 Breakers, 5 Closed blade disconnect switchs, 6 Closed tandem disconnect switchs, 2 Glass disc insulators, 3 Open tandem disconnect switchs, 34 Porcelain pin insulators, 1 Power transformer, 3 Reclosers, 22.5ms\n",
            "image 31/166 /content/datasets/Substation-elements-detection-1/test/images/20210811_094505_jpg.rf.2a6c1749334bf26598b41260c5788368.jpg: 800x800 2 Closed blade disconnect switchs, 2 Lightning arresters, 10 Porcelain pin insulators, 2 Reclosers, 22.5ms\n",
            "image 32/166 /content/datasets/Substation-elements-detection-1/test/images/20210811_094600_jpg.rf.c2cd709509feb87e365b7c70e5e1ceef.jpg: 800x800 1 Closed blade disconnect switch, 1 Current transformer, 5 Porcelain pin insulators, 2 Power transformers, 22.5ms\n",
            "image 33/166 /content/datasets/Substation-elements-detection-1/test/images/20210811_094732_jpg.rf.3c99ed79aa9bfa635a1c1f869f98448c.jpg: 800x800 8 Closed blade disconnect switchs, 3 Glass disc insulators, 1 Lightning arrester, 35 Porcelain pin insulators, 4 Potential transformers, 1 Recloser, 1 Tripolar disconnect switch, 22.4ms\n",
            "image 34/166 /content/datasets/Substation-elements-detection-1/test/images/20210811_094840_jpg.rf.3d118f00ed11807b3f400ea4674929c8.jpg: 800x800 7 Closed blade disconnect switchs, 3 Glass disc insulators, 34 Porcelain pin insulators, 3 Potential transformers, 1 Recloser, 22.5ms\n",
            "image 35/166 /content/datasets/Substation-elements-detection-1/test/images/20210811_094852_jpg.rf.0d5fb3c0b343bdc557db9a2705900b84.jpg: 800x800 3 Closed blade disconnect switchs, 1 Closed tandem disconnect switch, 11 Porcelain pin insulators, 22.5ms\n",
            "image 36/166 /content/datasets/Substation-elements-detection-1/test/images/20210811_095211_jpg.rf.a23e563339caa5b4ce86c765b6d42415.jpg: 800x800 9 Closed blade disconnect switchs, 37 Porcelain pin insulators, 3 Potential transformers, 3 Reclosers, 22.5ms\n",
            "image 37/166 /content/datasets/Substation-elements-detection-1/test/images/20210811_095235_jpg.rf.79d94467bd20e0d7079688d7cc11011b.jpg: 800x800 4 Closed blade disconnect switchs, 2 Lightning arresters, 24 Porcelain pin insulators, 4 Potential transformers, 1 Recloser, 22.4ms\n",
            "image 38/166 /content/datasets/Substation-elements-detection-1/test/images/20210811_095254_jpg.rf.59d0d2c027889c79ab8448b9ddc12466.jpg: 800x800 3 Breakers, 3 Closed blade disconnect switchs, 4 Closed tandem disconnect switchs, 1 Current transformer, 4 Open tandem disconnect switchs, 21 Porcelain pin insulators, 2 Reclosers, 22.6ms\n",
            "image 39/166 /content/datasets/Substation-elements-detection-1/test/images/20210811_095454_jpg.rf.bd5761c189529eef4b3160cdbf288cfe.jpg: 800x800 4 Closed blade disconnect switchs, 2 Current transformers, 2 Glass disc insulators, 21 Porcelain pin insulators, 2 Reclosers, 22.6ms\n",
            "image 40/166 /content/datasets/Substation-elements-detection-1/test/images/20210811_095713_jpg.rf.f1ef481e76c55d6ee650dd80c4c7071a.jpg: 800x800 1 Breaker, 2 Closed blade disconnect switchs, 1 Fuse disconnect switch, 3 Lightning arresters, 4 Porcelain pin insulators, 22.6ms\n",
            "image 41/166 /content/datasets/Substation-elements-detection-1/test/images/20210811_100009_jpg.rf.63b87d2e2a01c21cfc8b2d6654d9a4e7.jpg: 800x800 10 Closed blade disconnect switchs, 1 Current transformer, 32 Porcelain pin insulators, 3 Reclosers, 22.5ms\n",
            "image 42/166 /content/datasets/Substation-elements-detection-1/test/images/20210811_100030_jpg.rf.6e8aacfa8bc8b7b7e2729a8214bd1703.jpg: 800x800 5 Closed blade disconnect switchs, 18 Porcelain pin insulators, 4 Potential transformers, 1 Power transformer, 22.6ms\n",
            "image 43/166 /content/datasets/Substation-elements-detection-1/test/images/20210811_100229_jpg.rf.aeed7a73d0aef675c84af99c7f9c21ea.jpg: 800x800 4 Closed blade disconnect switchs, 2 Closed tandem disconnect switchs, 30 Porcelain pin insulators, 2 Power transformers, 1 Recloser, 22.4ms\n",
            "image 44/166 /content/datasets/Substation-elements-detection-1/test/images/2022-05-31_p2_P2_C23_X953_Y0_Z-6_A99_E110_rgb_HD_jpg.rf.912cab723df5419d3313240d770c3608.jpg: 800x800 5 Current transformers, 1 Lightning arrester, 1 Porcelain pin insulator, 1 Recloser, 20.0ms\n",
            "image 45/166 /content/datasets/Substation-elements-detection-1/test/images/2022-05-31_p2_P2_C29_X1123_Y0_Z-10_A39_E500_rgb_HD_jpg.rf.dd3e937e85ad1bacf444294ca1545d00.jpg: 800x800 4 Closed blade disconnect switchs, 6 Glass disc insulators, 15 Porcelain pin insulators, 1 Potential transformer, 1 Recloser, 20.0ms\n",
            "image 46/166 /content/datasets/Substation-elements-detection-1/test/images/2022-05-31_p2_P2_C33_X1123_Y0_Z-10_A-821_E240_rgb_HD_jpg.rf.01d0c0d6cbde65ca6f2b982ab3b20f69.jpg: 800x800 7 Closed blade disconnect switchs, 1 Current transformer, 4 Glass disc insulators, 12 Porcelain pin insulators, 2 Potential transformers, 1 Recloser, 1 Tripolar disconnect switch, 20.0ms\n",
            "image 47/166 /content/datasets/Substation-elements-detection-1/test/images/2022-05-31_p2_P2_C36_X1123_Y0_Z-10_A1719_E550_rgb_HD_jpg.rf.d0cc50df01e546b8cbb78401f8550662.jpg: 800x800 3 Fuse disconnect switchs, 11 Porcelain pin insulators, 1 Power transformer, 3 Tripolar disconnect switchs, 20.0ms\n",
            "image 48/166 /content/datasets/Substation-elements-detection-1/test/images/2022-05-31_p2_P2_C57_X1434_Y0_Z24_A1752_E350_rgb_HD_jpg.rf.dceef2afe39bd509d953f3ede855434a.jpg: 800x800 3 Breakers, 3 Closed blade disconnect switchs, 2 Glass disc insulators, 2 Lightning arresters, 11 Porcelain pin insulators, 20.0ms\n",
            "image 49/166 /content/datasets/Substation-elements-detection-1/test/images/2022-05-31_p2_P2_C58_X1434_Y0_Z24_A-1738_E500_rgb_HD_jpg.rf.0879b4a70f9a221378ad83ab37f6627f.jpg: 800x800 3 Breakers, 2 Closed blade disconnect switchs, 8 Porcelain pin insulators, 20.0ms\n",
            "image 50/166 /content/datasets/Substation-elements-detection-1/test/images/2022-05-31_p2_P2_C60_X1434_Y0_Z24_A1652_E120_rgb_HD_jpg.rf.6ba493ccd1b6aaf357b66bd46c552a7b.jpg: 800x800 2 Breakers, 2 Current transformers, 5 Lightning arresters, 2 Muffles, 1 Porcelain pin insulator, 20.1ms\n",
            "image 51/166 /content/datasets/Substation-elements-detection-1/test/images/2022-07-05_p3_P3_C012_X804_Y0_Z-20_A738_E390_rgb_jpg.rf.62f7a2bbba503e2451fdea7ec01397fe.jpg: 800x800 6 Closed blade disconnect switchs, 9 Glass disc insulators, 17 Porcelain pin insulators, 1 Recloser, 12 Tripolar disconnect switchs, 20.0ms\n",
            "image 52/166 /content/datasets/Substation-elements-detection-1/test/images/2022-07-06_p1_P1_C043_X1433_Y0_Z14_A402_E700_rgb_HD_jpg.rf.40cfa7b7eb1f69edc5d59def24525d0d.jpg: 800x800 5 Closed blade disconnect switchs, 6 Glass disc insulators, 18 Porcelain pin insulators, 10 Tripolar disconnect switchs, 17.9ms\n",
            "image 53/166 /content/datasets/Substation-elements-detection-1/test/images/2022-07-06_p1_P1_C044_X1433_Y0_Z14_A601_E700_rgb_HD_jpg.rf.fae841fb036824a9c747d4e14a47252a.jpg: 800x800 3 Closed blade disconnect switchs, 4 Glass disc insulators, 10 Porcelain pin insulators, 16 Tripolar disconnect switchs, 17.9ms\n",
            "image 54/166 /content/datasets/Substation-elements-detection-1/test/images/2022-07-11_p3_P3_C045_X1434_Y0_Z5_A731_E530_rgb_jpg.rf.a9c9c82df57c4602760403654a701b27.jpg: 800x800 5 Closed blade disconnect switchs, 3 Glass disc insulators, 6 Porcelain pin insulators, 16 Tripolar disconnect switchs, 17.9ms\n",
            "image 55/166 /content/datasets/Substation-elements-detection-1/test/images/2022-07-11_p4_P4_C044_X1434_Y0_Z-5_A599_E700_rgb_HD_jpg.rf.07c4046bb17bc0f253a3a3327a3a518d.jpg: 800x800 2 Closed blade disconnect switchs, 3 Glass disc insulators, 9 Porcelain pin insulators, 17 Tripolar disconnect switchs, 17.9ms\n",
            "image 56/166 /content/datasets/Substation-elements-detection-1/test/images/2022-07-11_p4_P4_C044_X1434_Y0_Z-5_A599_E700_rgb_jpg.rf.14ec2ba3da4fd10fd6f37dfb66fe59fc.jpg: 800x800 1 Closed blade disconnect switch, 6 Porcelain pin insulators, 14 Tripolar disconnect switchs, 18.0ms\n",
            "image 57/166 /content/datasets/Substation-elements-detection-1/test/images/2022-07-15_p1_P1_C044_X1433_Y0_Z9_A601_E700_rgb_HD_jpg.rf.49387d95a8b53377e3dc0f6532c13faa.jpg: 800x800 3 Closed blade disconnect switchs, 5 Glass disc insulators, 13 Porcelain pin insulators, 14 Tripolar disconnect switchs, 17.8ms\n",
            "image 58/166 /content/datasets/Substation-elements-detection-1/test/images/2022-07-20_p4_P4_C005_X494_Y0_Z-147_A455_E430_rgb_HD_jpg.rf.67774ef2ca6f1b88f3d1ac0776666400.jpg: 800x800 7 Closed blade disconnect switchs, 1 Current transformer, 3 Glass disc insulators, 18 Porcelain pin insulators, 2 Reclosers, 17.9ms\n",
            "image 59/166 /content/datasets/Substation-elements-detection-1/test/images/2022-07-20_p4_P4_C005_X494_Y0_Z-147_A455_E430_rgb_jpg.rf.171461d7da0a5f90e5c6591f6bcf3ac5.jpg: 800x800 4 Closed blade disconnect switchs, 12 Porcelain pin insulators, 2 Reclosers, 17.8ms\n",
            "image 60/166 /content/datasets/Substation-elements-detection-1/test/images/2022-07-20_p4_P4_C012_X804_Y0_Z-7_A740_E390_rgb_jpg.rf.e6c1ee6d449ae8aac3acd4b0853bbe91.jpg: 800x800 10 Closed blade disconnect switchs, 1 Glass disc insulator, 18 Porcelain pin insulators, 1 Recloser, 8 Tripolar disconnect switchs, 17.9ms\n",
            "image 61/166 /content/datasets/Substation-elements-detection-1/test/images/2022-07-20_p4_P4_C019_X804_Y0_Z-7_A-511_E420_rgb_HD_jpg.rf.d2eb58a7b9ed19dfd70d27a838ab6ddf.jpg: 800x800 4 Closed blade disconnect switchs, 4 Glass disc insulators, 12 Porcelain pin insulators, 1 Recloser, 1 Tripolar disconnect switch, 17.9ms\n",
            "image 62/166 /content/datasets/Substation-elements-detection-1/test/images/2022-07-20_p4_P4_C024_X953_Y0_Z21_A-98_E110_rgb_HD_jpg.rf.f53a087bf5dfdff597898fd099851311.jpg: 800x800 6 Current transformers, 3 Lightning arresters, 1 Recloser, 17.9ms\n",
            "image 63/166 /content/datasets/Substation-elements-detection-1/test/images/2022-07-20_p4_P4_C039_X1275_Y0_Z-23_A102_E110_rgb_HD_jpg.rf.525aff06b28650e60bc2e997446a951e.jpg: 800x800 2 Current transformers, 1 Recloser, 17.9ms\n",
            "image 64/166 /content/datasets/Substation-elements-detection-1/test/images/2022-07-20_p4_P4_C049_X1433_Y0_Z26_A43_E540_rgb_HD_jpg.rf.3130e8799721599d8475547cc90434eb.jpg: 800x800 3 Closed blade disconnect switchs, 4 Glass disc insulators, 16 Porcelain pin insulators, 4 Reclosers, 17.9ms\n",
            "image 65/166 /content/datasets/Substation-elements-detection-1/test/images/2022-07-20_p4_P4_C050_X1433_Y0_Z26_A-116_E540_rgb_HD_jpg.rf.75aabd58b6aa0a869df650ef2f2239b9.jpg: 800x800 4 Closed blade disconnect switchs, 4 Glass disc insulators, 19 Porcelain pin insulators, 2 Reclosers, 17.9ms\n",
            "image 66/166 /content/datasets/Substation-elements-detection-1/test/images/2022-07-22_p4_P4_C001_X207_Y5_Z256_A456_E270_rgb_jpg.rf.78884e188548ce2b69ea403da991a03e.jpg: 800x800 2 Closed blade disconnect switchs, 4 Current transformers, 3 Lightning arresters, 7 Porcelain pin insulators, 1 Recloser, 17.9ms\n",
            "image 67/166 /content/datasets/Substation-elements-detection-1/test/images/2022-07-22_p4_P4_C005_X494_Y0_Z7_A471_E430_rgb_HD_jpg.rf.4743641048deac2abd3686e2814aa0c3.jpg: 800x800 7 Closed blade disconnect switchs, 4 Glass disc insulators, 22 Porcelain pin insulators, 2 Reclosers, 2 Tripolar disconnect switchs, 17.8ms\n",
            "image 68/166 /content/datasets/Substation-elements-detection-1/test/images/2022-07-22_p4_P4_C008_X494_Y0_Z7_A51_E550_rgb_jpg.rf.d8f1e3c292ff28cf25d8c9d16c271303.jpg: 800x800 2 Closed blade disconnect switchs, 2 Glass disc insulators, 10 Porcelain pin insulators, 1 Recloser, 17.9ms\n",
            "image 69/166 /content/datasets/Substation-elements-detection-1/test/images/2022-07-22_p4_P4_C015_X803_Y0_Z-5_A-31_E350_rgb_jpg.rf.4fa4de3e5c5911bc061e3cd9f29aa6cb.jpg: 800x800 2 Closed blade disconnect switchs, 1 Current transformer, 6 Porcelain pin insulators, 2 Reclosers, 17.8ms\n",
            "image 70/166 /content/datasets/Substation-elements-detection-1/test/images/2022-07-22_p4_P4_C016_X803_Y0_Z-5_A69_E500_rgb_HD_jpg.rf.b2da042e5b211192e971c125e72f7314.jpg: 800x800 3 Closed blade disconnect switchs, 5 Glass disc insulators, 17 Porcelain pin insulators, 6 Reclosers, 17.8ms\n",
            "image 71/166 /content/datasets/Substation-elements-detection-1/test/images/2022-07-22_p4_P4_C016_X803_Y0_Z-5_A69_E500_rgb_jpg.rf.fddb544bd5136dfb28683de83925e59f.jpg: 800x800 3 Closed blade disconnect switchs, 3 Glass disc insulators, 11 Porcelain pin insulators, 5 Reclosers, 17.8ms\n",
            "image 72/166 /content/datasets/Substation-elements-detection-1/test/images/2022-07-22_p4_P4_C024_X955_Y0_Z-6_A-101_E110_rgb_HD_jpg.rf.778c3007667f0498b86a0f31c869d506.jpg: 800x800 6 Current transformers, 3 Lightning arresters, 1 Recloser, 17.9ms\n",
            "image 73/166 /content/datasets/Substation-elements-detection-1/test/images/2022-07-22_p4_P4_C028_X1123_Y0_Z15_A-38_E350_rgb_HD_jpg.rf.35e5f323a8b23459f5f10fbfdedd3f18.jpg: 800x800 3 Closed blade disconnect switchs, 3 Current transformers, 3 Glass disc insulators, 3 Lightning arresters, 13 Porcelain pin insulators, 4 Reclosers, 17.9ms\n",
            "image 74/166 /content/datasets/Substation-elements-detection-1/test/images/2022-07-22_p4_P4_C028_X1123_Y0_Z15_A-38_E350_rgb_jpg.rf.fac8d7a51a3982c5231131c63e2b7f16.jpg: 800x800 3 Closed blade disconnect switchs, 1 Current transformer, 10 Porcelain pin insulators, 3 Reclosers, 17.8ms\n",
            "image 75/166 /content/datasets/Substation-elements-detection-1/test/images/2022-07-22_p4_P4_C033_X1123_Y0_Z15_A-818_E240_rgb_HD_jpg.rf.3d2f6c72b5e05056d45f090a68817dc0.jpg: 800x800 4 Closed blade disconnect switchs, 13 Porcelain pin insulators, 3 Potential transformers, 1 Recloser, 17.8ms\n",
            "image 76/166 /content/datasets/Substation-elements-detection-1/test/images/2022-07-22_p4_P4_C043_X1434_Y0_Z-14_A401_E700_rgb_HD_jpg.rf.33bfa43ed68b9e5742940a9c638dd336.jpg: 800x800 5 Closed blade disconnect switchs, 3 Glass disc insulators, 14 Porcelain pin insulators, 9 Tripolar disconnect switchs, 17.9ms\n",
            "image 77/166 /content/datasets/Substation-elements-detection-1/test/images/2022-07-22_p4_P4_C044_X1434_Y0_Z-14_A599_E700_rgb_jpg.rf.7cdf1947026b46fc229096749f2d1d91.jpg: 800x800 2 Closed blade disconnect switchs, 6 Porcelain pin insulators, 17 Tripolar disconnect switchs, 17.8ms\n",
            "image 78/166 /content/datasets/Substation-elements-detection-1/test/images/2022-07-22_p4_P4_C050_X1434_Y0_Z-14_A-121_E540_rgb_jpg.rf.51c9878832db98ad00e97bf2352bdcdf.jpg: 800x800 2 Closed blade disconnect switchs, 4 Glass disc insulators, 12 Porcelain pin insulators, 1 Recloser, 17.8ms\n",
            "image 79/166 /content/datasets/Substation-elements-detection-1/test/images/2022-07-22_p4_P4_C058_X1434_Y0_Z-14_A-1741_E500_rgb_HD_jpg.rf.f06aedd688774540c4a4485b8fe9ebbb.jpg: 800x800 3 Breakers, 4 Closed blade disconnect switchs, 1 Fuse disconnect switch, 21 Porcelain pin insulators, 17.8ms\n",
            "image 80/166 /content/datasets/Substation-elements-detection-1/test/images/2022-07-26_p4_P4_C004_X494_Y0_Z-7_A449_E260_rgb_HD_jpg.rf.f88bc54302a09dcf307a8308c0a530ed.jpg: 800x800 5 Closed blade disconnect switchs, 1 Current transformer, 16 Porcelain pin insulators, 2 Reclosers, 17.8ms\n",
            "image 81/166 /content/datasets/Substation-elements-detection-1/test/images/2022-07-26_p4_P4_C008_X494_Y0_Z-7_A49_E550_rgb_HD_jpg.rf.7f4dd296d1adbe12f4cca6be279e7742.jpg: 800x800 4 Closed blade disconnect switchs, 5 Glass disc insulators, 11 Porcelain pin insulators, 2 Reclosers, 17.8ms\n",
            "image 82/166 /content/datasets/Substation-elements-detection-1/test/images/2022-07-26_p4_P4_C019_X804_Y0_Z-19_A-511_E420_rgb_HD_jpg.rf.815cb902c76f21b8ca705aaaca877ddd.jpg: 800x800 4 Closed blade disconnect switchs, 7 Glass disc insulators, 12 Porcelain pin insulators, 1 Potential transformer, 1 Recloser, 1 Tripolar disconnect switch, 17.9ms\n",
            "image 83/166 /content/datasets/Substation-elements-detection-1/test/images/2022-07-26_p4_P4_C022_X804_Y0_Z-19_A1308_E410_rgb_jpg.rf.01a4891f85aa41a1da1883a5cf93f3d0.jpg: 800x800 4 Closed blade disconnect switchs, 3 Fuse disconnect switchs, 18 Porcelain pin insulators, 1 Power transformer, 2 Tripolar disconnect switchs, 17.8ms\n",
            "image 84/166 /content/datasets/Substation-elements-detection-1/test/images/2022-07-26_p4_P4_C024_X954_Y0_Z-54_A-105_E110_rgb_HD_jpg.rf.09a035d5b2c5d9be0b9fb11125990091.jpg: 800x800 5 Current transformers, 2 Lightning arresters, 1 Recloser, 17.9ms\n",
            "image 85/166 /content/datasets/Substation-elements-detection-1/test/images/2022-07-26_p4_P4_C024_X954_Y0_Z-54_A-105_E110_rgb_jpg.rf.9a1376561f996efb603bf0cec04c0ced.jpg: 800x800 2 Current transformers, 1 Lightning arrester, 17.9ms\n",
            "image 86/166 /content/datasets/Substation-elements-detection-1/test/images/2022-07-26_p4_P4_C025_X1123_Y0_Z-62_A694_E550_rgb_jpg.rf.c9b9da2fe9af3fd89d0c96dd747d2f64.jpg: 800x800 2 Closed blade disconnect switchs, 1 Glass disc insulator, 9 Porcelain pin insulators, 14 Tripolar disconnect switchs, 18.0ms\n",
            "image 87/166 /content/datasets/Substation-elements-detection-1/test/images/2022-07-26_p4_P4_C033_X1123_Y0_Z-62_A-826_E240_rgb_HD_jpg.rf.6612cc2a3eebca563dfe68b3f6fd19aa.jpg: 800x800 4 Closed blade disconnect switchs, 1 Current transformer, 14 Porcelain pin insulators, 3 Potential transformers, 1 Recloser, 18.1ms\n",
            "image 88/166 /content/datasets/Substation-elements-detection-1/test/images/2022-07-26_p4_P4_C034_X1123_Y0_Z-62_A1774_E410_rgb_jpg.rf.7d26d3dcded528f76016caa591c8d1b8.jpg: 800x800 2 Closed blade disconnect switchs, 4 Fuse disconnect switchs, 8 Porcelain pin insulators, 1 Power transformer, 18.1ms\n",
            "image 89/166 /content/datasets/Substation-elements-detection-1/test/images/2022-07-26_p4_P4_C038_X1123_Y0_Z-62_A1304_E450_rgb_jpg.rf.bdbb6831331cfd03b1ead18f88690462.jpg: 800x800 2 Breakers, 3 Closed blade disconnect switchs, 10 Porcelain pin insulators, 1 Tripolar disconnect switch, 18.1ms\n",
            "image 90/166 /content/datasets/Substation-elements-detection-1/test/images/2022-07-26_p4_P4_C041_X1273_Y0_Z-8_A1679_E110_rgb_jpg.rf.f93c08679f190c7256014517b2419dfb.jpg: 800x800 1 Breaker, 1 Current transformer, 4 Lightning arresters, 18.0ms\n",
            "image 91/166 /content/datasets/Substation-elements-detection-1/test/images/2022-07-26_p4_P4_C045_X1434_Y0_Z-10_A729_E530_rgb_HD_jpg.rf.f82f1d226b0cac97a83ed06e7bc31cac.jpg: 800x800 6 Closed blade disconnect switchs, 1 Glass disc insulator, 19 Porcelain pin insulators, 20 Tripolar disconnect switchs, 17.6ms\n",
            "image 92/166 /content/datasets/Substation-elements-detection-1/test/images/2022-07-26_p4_P4_C060_X1434_Y0_Z-10_A1649_E120_rgb_jpg.rf.1dc500a89f83a67966da57a9e9af366b.jpg: 800x800 1 Breaker, 8 Lightning arresters, 6 Muffles, 17.6ms\n",
            "image 93/166 /content/datasets/Substation-elements-detection-1/test/images/FLIR0042_rgb_jpg.rf.77f086cd3916a868054f859f4f568d7d.jpg: 800x800 9 Closed blade disconnect switchs, 2 Lightning arresters, 31 Porcelain pin insulators, 4 Reclosers, 17.6ms\n",
            "image 94/166 /content/datasets/Substation-elements-detection-1/test/images/FLIR0047_rgb_jpg.rf.f6f9d531a88039e0a55b7fc852c9836c.jpg: 800x800 7 Closed blade disconnect switchs, 1 Current transformer, 3 Glass disc insulators, 31 Porcelain pin insulators, 3 Reclosers, 17.6ms\n",
            "image 95/166 /content/datasets/Substation-elements-detection-1/test/images/FLIR0123_rgb_jpg.rf.1e4d61174e4c99c4eafa74bca231e47b.jpg: 800x800 3 Closed blade disconnect switchs, 15 Porcelain pin insulators, 2 Reclosers, 17.7ms\n",
            "image 96/166 /content/datasets/Substation-elements-detection-1/test/images/FLIR0126_rgb_jpg.rf.bd68b8700566d3a6fd87cb2dae7c0593.jpg: 800x800 2 Current transformers, 2 Glass disc insulators, 3 Porcelain pin insulators, 3 Reclosers, 17.7ms\n",
            "image 97/166 /content/datasets/Substation-elements-detection-1/test/images/FLIR0171_rgb_jpg.rf.b396b50b7a862db593c82b051071b9b8.jpg: 800x800 2 Closed blade disconnect switchs, 10 Porcelain pin insulators, 17.6ms\n",
            "image 98/166 /content/datasets/Substation-elements-detection-1/test/images/FLIR0180_rgb_jpg.rf.ec199f309d100a5a3d236e5de900444b.jpg: 800x800 1 Breaker, 3 Closed blade disconnect switchs, 12 Porcelain pin insulators, 17.6ms\n",
            "image 99/166 /content/datasets/Substation-elements-detection-1/test/images/FLIR0223_rgb_jpg.rf.d02a7294b24cdbe0f3657e7888e99776.jpg: 800x800 1 Breaker, 2 Glass disc insulators, 6 Lightning arresters, 15 Muffles, 5 Porcelain pin insulators, 17.6ms\n",
            "image 100/166 /content/datasets/Substation-elements-detection-1/test/images/FLIR0250_rgb-2-_jpg.rf.afd46d10cc34835521c13a4623b0fb06.jpg: 800x800 2 Breakers, 9 Glass disc insulators, 5 Lightning arresters, 3 Muffles, 5 Porcelain pin insulators, 1 Power transformer, 3 Reclosers, 17.6ms\n",
            "image 101/166 /content/datasets/Substation-elements-detection-1/test/images/FLIR0314_rgb_jpg.rf.a2a12202901d0aeb90ef783452f9f151.jpg: 800x800 2 Breakers, 3 Closed blade disconnect switchs, 1 Closed tandem disconnect switch, 1 Lightning arrester, 13 Porcelain pin insulators, 2 Power transformers, 3 Reclosers, 17.6ms\n",
            "image 102/166 /content/datasets/Substation-elements-detection-1/test/images/FLIR0348_rgb_jpg.rf.e112d41474d25018943cdcc39255c102.jpg: 800x800 1 Closed tandem disconnect switch, 20 Porcelain pin insulators, 1 Power transformer, 3 Reclosers, 17.7ms\n",
            "image 103/166 /content/datasets/Substation-elements-detection-1/test/images/FLIR0353_rgb_jpg.rf.a02a6b29d14279289e6f228f8027c377.jpg: 800x800 3 Breakers, 7 Closed blade disconnect switchs, 2 Closed tandem disconnect switchs, 1 Current transformer, 2 Open tandem disconnect switchs, 38 Porcelain pin insulators, 2 Power transformers, 1 Recloser, 17.6ms\n",
            "image 104/166 /content/datasets/Substation-elements-detection-1/test/images/FLIR0559_jpg.rf.40873434717a55117960201dec03b7b8.jpg: 800x800 2 Closed blade disconnect switchs, 1 Current transformer, 10 Glass disc insulators, 2 Lightning arresters, 13 Porcelain pin insulators, 2 Reclosers, 17.6ms\n",
            "image 105/166 /content/datasets/Substation-elements-detection-1/test/images/FLIR0766_rgb_jpg.rf.8a5e4d11761b9658c335d2dc94eba214.jpg: 800x800 1 Closed blade disconnect switch, 2 Porcelain pin insulators, 17.6ms\n",
            "image 106/166 /content/datasets/Substation-elements-detection-1/test/images/FLIR0813_rgb_jpg.rf.074a5758d1fdbe73905e82ec2b28a371.jpg: 800x800 7 Glass disc insulators, 4 Lightning arresters, 1 Porcelain pin insulator, 17.6ms\n",
            "image 107/166 /content/datasets/Substation-elements-detection-1/test/images/FLIR0852_rgb_jpg.rf.ef14ea79d1b977aaa48d7b490eb3039e.jpg: 800x800 5 Closed blade disconnect switchs, 1 Glass disc insulator, 33 Porcelain pin insulators, 1 Tripolar disconnect switch, 17.6ms\n",
            "image 108/166 /content/datasets/Substation-elements-detection-1/test/images/FLIR0920_rgb_jpg.rf.887b73adacf876c16fb22969f0c527e7.jpg: 800x800 6 Closed blade disconnect switchs, 2 Glass disc insulators, 17 Porcelain pin insulators, 1 Recloser, 17.6ms\n",
            "image 109/166 /content/datasets/Substation-elements-detection-1/test/images/FLIR1057_rgb_jpg.rf.541c018260f07dd2364a75c6a5dc1d16.jpg: 800x800 4 Glass disc insulators, 4 Lightning arresters, 4 Porcelain pin insulators, 17.6ms\n",
            "image 110/166 /content/datasets/Substation-elements-detection-1/test/images/FLIR1065_rgb_jpg.rf.c80e4f54b54d90a65c4acb62393d0322.jpg: 800x800 9 Closed blade disconnect switchs, 1 Glass disc insulator, 40 Porcelain pin insulators, 6 Potential transformers, 1 Power transformer, 2 Reclosers, 2 Tripolar disconnect switchs, 17.6ms\n",
            "image 111/166 /content/datasets/Substation-elements-detection-1/test/images/FLIR1156_rgb_jpg.rf.e032d1682af9db38e0458f7542ef643f.jpg: 800x800 2 Glass disc insulators, 17 Porcelain pin insulators, 1 Power transformer, 17.6ms\n",
            "image 112/166 /content/datasets/Substation-elements-detection-1/test/images/FLIR1268_rgb_jpg.rf.ae8690d0a2286fc6547f42e97d2bd472.jpg: 800x800 7 Closed blade disconnect switchs, 1 Glass disc insulator, 27 Porcelain pin insulators, 2 Reclosers, 17.7ms\n",
            "image 113/166 /content/datasets/Substation-elements-detection-1/test/images/FLIR1316_rgb_jpg.rf.3a17f96b514ddf6d37dbb09fef898631.jpg: 800x800 11 Closed blade disconnect switchs, 5 Glass disc insulators, 41 Porcelain pin insulators, 1 Potential transformer, 4 Reclosers, 17.6ms\n",
            "image 114/166 /content/datasets/Substation-elements-detection-1/test/images/FLIR1484_rgb_jpg.rf.2da4d33f37f375eda36fe30a4a22a6f1.jpg: 800x800 7 Closed blade disconnect switchs, 10 Glass disc insulators, 6 Lightning arresters, 25 Porcelain pin insulators, 2 Reclosers, 17.6ms\n",
            "image 115/166 /content/datasets/Substation-elements-detection-1/test/images/FLIR1547_rgb_jpg.rf.662789ed12e61214c7f671ecda9ac464.jpg: 800x800 1 Breaker, 3 Closed blade disconnect switchs, 4 Closed tandem disconnect switchs, 2 Current transformers, 1 Lightning arrester, 24 Porcelain pin insulators, 1 Recloser, 17.6ms\n",
            "image 116/166 /content/datasets/Substation-elements-detection-1/test/images/FLIR1550_rgb_jpg.rf.96326ac795ef9bf702502d34c8a2fc9c.jpg: 800x800 1 Breaker, 4 Closed blade disconnect switchs, 4 Closed tandem disconnect switchs, 2 Current transformers, 37 Porcelain pin insulators, 3 Power transformers, 1 Recloser, 17.6ms\n",
            "image 117/166 /content/datasets/Substation-elements-detection-1/test/images/FLIR1708_rgb_jpg.rf.0a4e824e2a7d18fd0d034da776cfd7a8.jpg: 800x800 3 Closed blade disconnect switchs, 1 Closed tandem disconnect switch, 16 Muffles, 19 Porcelain pin insulators, 1 Recloser, 17.6ms\n",
            "image 118/166 /content/datasets/Substation-elements-detection-1/test/images/FLIR1751_rgb_jpg.rf.dfc7ad2f2eec14f9e9b5de34f766b2b0.jpg: 800x800 2 Breakers, 2 Glass disc insulators, 1 Lightning arrester, 1 Porcelain pin insulator, 2 Power transformers, 17.6ms\n",
            "image 119/166 /content/datasets/Substation-elements-detection-1/test/images/FLIR1780_rgb_jpg.rf.431dc529d4cc8d7194a6798c4be7cac8.jpg: 800x800 1 Breaker, 11 Closed blade disconnect switchs, 3 Glass disc insulators, 67 Porcelain pin insulators, 5 Reclosers, 17.6ms\n",
            "image 120/166 /content/datasets/Substation-elements-detection-1/test/images/FLIR1805_rgb_jpg.rf.86290be34be6d7e8c67efa04ae29c7c0.jpg: 800x800 1 Breaker, 1 Current transformer, 17.6ms\n",
            "image 121/166 /content/datasets/Substation-elements-detection-1/test/images/FLIR1844_rgb_jpg.rf.6065ca3dcff64c50503da9581c43c616.jpg: 800x800 22 Porcelain pin insulators, 1 Recloser, 17.6ms\n",
            "image 122/166 /content/datasets/Substation-elements-detection-1/test/images/FLIR1950_rgb_jpg.rf.2af68a556df5ddccde872833b8995a17.jpg: 800x800 13 Closed blade disconnect switchs, 10 Glass disc insulators, 2 Lightning arresters, 76 Porcelain pin insulators, 1 Power transformer, 4 Reclosers, 17.6ms\n",
            "image 123/166 /content/datasets/Substation-elements-detection-1/test/images/FLIR4708_rgb_EiXkeWv_jpg.rf.4ecad5a3d9cd60542cb78557c6a9cf8f.jpg: 800x800 8 Closed blade disconnect switchs, 9 Glass disc insulators, 33 Porcelain pin insulators, 10 Tripolar disconnect switchs, 19.4ms\n",
            "image 124/166 /content/datasets/Substation-elements-detection-1/test/images/FLIR5681_rgb_aDUm0us_jpg.rf.ab807f150faab77e02934ec22f099e07.jpg: 800x800 1 Closed blade disconnect switch, 9 Porcelain pin insulators, 5 Tripolar disconnect switchs, 19.3ms\n",
            "image 125/166 /content/datasets/Substation-elements-detection-1/test/images/FLIR6103_rgb_B1SSguY_jpg.rf.bb64e74cd8abffbc2a99a4c7bf7bdb76.jpg: 800x800 1 Glass disc insulator, 5 Porcelain pin insulators, 6 Tripolar disconnect switchs, 19.3ms\n",
            "image 126/166 /content/datasets/Substation-elements-detection-1/test/images/FLIR6907_rgb_Nt4dBfP_jpg.rf.5fdb2ec69e5a7fca84b6290b7aa1b86f.jpg: 800x800 1 Closed blade disconnect switch, 4 Porcelain pin insulators, 5 Tripolar disconnect switchs, 19.3ms\n",
            "image 127/166 /content/datasets/Substation-elements-detection-1/test/images/IMG_1059_JPEG.rf.60115c77141d419193f6a1afddcc800c.jpg: 800x800 1 Breaker, 4 Closed blade disconnect switchs, 2 Fuse disconnect switchs, 1 Lightning arrester, 21 Porcelain pin insulators, 1 Power transformer, 19.0ms\n",
            "image 128/166 /content/datasets/Substation-elements-detection-1/test/images/IMG_1115_JPEG.rf.60852e779676d2df314f710514f31c8f.jpg: 800x800 3 Closed blade disconnect switchs, 1 Lightning arrester, 15 Porcelain pin insulators, 3 Potential transformers, 1 Recloser, 19.0ms\n",
            "image 129/166 /content/datasets/Substation-elements-detection-1/test/images/IMG_1117_JPEG.rf.d6209ed876b64ccaedd7a05fc0dc0db8.jpg: 800x800 5 Closed blade disconnect switchs, 3 Lightning arresters, 23 Porcelain pin insulators, 4 Potential transformers, 2 Reclosers, 19.0ms\n",
            "image 130/166 /content/datasets/Substation-elements-detection-1/test/images/PANO0002_JPG.rf.3915096dc3c2e890e0f5b15a8391e10c.jpg: 800x800 2 Closed blade disconnect switchs, 8 Glass disc insulators, 4 Lightning arresters, 2 Muffles, 11 Porcelain pin insulators, 5 Reclosers, 19.0ms\n",
            "image 131/166 /content/datasets/Substation-elements-detection-1/test/images/img_20220323_201055_155_rgb_jpg.rf.e1acfd8534f0bd27d438cc45499c3294.jpg: 800x800 3 Potential transformers, 19.1ms\n",
            "image 132/166 /content/datasets/Substation-elements-detection-1/test/images/img_20220328_205830_108_rgb_jpg.rf.f55fb90e2ef22e72b3aa10f4b61adfdc.jpg: 800x800 2 Porcelain pin insulators, 1 Power transformer, 19.0ms\n",
            "image 133/166 /content/datasets/Substation-elements-detection-1/test/images/img_20220329_200327_817_rgb_jpg.rf.d45a0f46d9a0ab82e81589165f186e8e.jpg: 800x800 1 Power transformer, 19.0ms\n",
            "image 134/166 /content/datasets/Substation-elements-detection-1/test/images/img_20220406_204104_668_rgb_jpg.rf.6c7da904828ed72bb145106db295fbb0.jpg: 800x800 2 Closed blade disconnect switchs, 1 Glass disc insulator, 5 Porcelain pin insulators, 1 Recloser, 19.1ms\n",
            "image 135/166 /content/datasets/Substation-elements-detection-1/test/images/img_20220406_204107_570_rgb_jpg.rf.9e5506d044d33efc6e8a6bc711c30dad.jpg: 800x800 2 Closed blade disconnect switchs, 1 Glass disc insulator, 4 Porcelain pin insulators, 1 Recloser, 17.7ms\n",
            "image 136/166 /content/datasets/Substation-elements-detection-1/test/images/img_20220406_204258_150_rgb_jpg.rf.d9578ba7c7438c82890d223b695d5ef2.jpg: 800x800 3 Porcelain pin insulators, 3 Reclosers, 17.6ms\n",
            "image 137/166 /content/datasets/Substation-elements-detection-1/test/images/img_20220406_204355_918_rgb_jpg.rf.614ce1504d4b1b2125b9b7aa57b9f1ac.jpg: 800x800 2 Porcelain pin insulators, 1 Power transformer, 17.6ms\n",
            "image 138/166 /content/datasets/Substation-elements-detection-1/test/images/img_20220406_204438_575_rgb_jpg.rf.2ee7b52406777e1d4581a4c099471159.jpg: 800x800 2 Current transformers, 17.6ms\n",
            "image 139/166 /content/datasets/Substation-elements-detection-1/test/images/img_20220406_204914_475_rgb_jpg.rf.af7965095633d89c07b175a487f43ea2.jpg: 800x800 1 Recloser, 17.7ms\n",
            "image 140/166 /content/datasets/Substation-elements-detection-1/test/images/img_20220406_205043_144_rgb_jpg.rf.8c6cc3455820de3a7d8a1316c185ae20.jpg: 800x800 1 Closed blade disconnect switch, 3 Porcelain pin insulators, 2 Reclosers, 16.4ms\n",
            "image 141/166 /content/datasets/Substation-elements-detection-1/test/images/img_20220406_205044_497_rgb_jpg.rf.c55e1deb62f500a0ecdbdc69b5b112a8.jpg: 800x800 1 Porcelain pin insulator, 2 Reclosers, 16.1ms\n",
            "image 142/166 /content/datasets/Substation-elements-detection-1/test/images/img_20220406_205310_317_rgb_jpg.rf.d6a9f7d0aec37774d284d96c05652e47.jpg: 800x800 3 Fuse disconnect switchs, 8 Porcelain pin insulators, 16.1ms\n",
            "image 143/166 /content/datasets/Substation-elements-detection-1/test/images/img_20220420_201543_991_rgb_jpg.rf.1cd7b705dedd15f9a75447f27ba9ab45.jpg: 800x800 2 Current transformers, 16.1ms\n",
            "image 144/166 /content/datasets/Substation-elements-detection-1/test/images/img_20220420_201729_495_rgb_jpg.rf.6276ac52bc4690d3e4c56bd6975c229c.jpg: 800x800 1 Power transformer, 16.1ms\n",
            "image 145/166 /content/datasets/Substation-elements-detection-1/test/images/img_20220425_201608_361_rgb_jpg.rf.b75ad98f7a9ce3421904163a44e3b52e.jpg: 800x800 1 Recloser, 16.1ms\n",
            "image 146/166 /content/datasets/Substation-elements-detection-1/test/images/img_20220425_201634_555_rgb_jpg.rf.6f4b244fd68d60ffbfa19eed99372464.jpg: 800x800 13.8ms\n",
            "image 147/166 /content/datasets/Substation-elements-detection-1/test/images/img_20220426_201451_371_rgb_jpg.rf.c5e49e8408f3c82ec0f25f589a118452.jpg: 800x800 1 Closed blade disconnect switch, 1 Recloser, 13.8ms\n",
            "image 148/166 /content/datasets/Substation-elements-detection-1/test/images/img_20220427_204718_797_rgb_jpg.rf.51cd8cc4fa7c64e362f7a71e1a6287ca.jpg: 800x800 2 Current transformers, 13.8ms\n",
            "image 149/166 /content/datasets/Substation-elements-detection-1/test/images/img_20220428_203842_278_rgb_jpg.rf.970479b325c247d3456d6888fd3faba4.jpg: 800x800 1 Recloser, 13.7ms\n",
            "image 150/166 /content/datasets/Substation-elements-detection-1/test/images/img_20220428_204215_637_rgb_jpg.rf.9eb1264880ac89b89c4c6f1acbe4fcbc.jpg: 800x800 2 Power transformers, 13.6ms\n",
            "image 151/166 /content/datasets/Substation-elements-detection-1/test/images/img_20220502_202632_799_rgb_jpg.rf.54bd5c9742c7dad8bb73ae3fb2e7801c.jpg: 800x800 1 Current transformer, 2 Lightning arresters, 1 Recloser, 13.6ms\n",
            "image 152/166 /content/datasets/Substation-elements-detection-1/test/images/img_20220502_202702_488_rgb_jpg.rf.d66087071d68eacffda6f16a520d6d38.jpg: 800x800 2 Closed blade disconnect switchs, 1 Glass disc insulator, 4 Porcelain pin insulators, 1 Recloser, 13.3ms\n",
            "image 153/166 /content/datasets/Substation-elements-detection-1/test/images/img_20220502_203352_008_rgb_jpg.rf.61bd301dec1c0bb49e8098a0993f5cf6.jpg: 800x800 4 Porcelain pin insulators, 1 Recloser, 13.3ms\n",
            "image 154/166 /content/datasets/Substation-elements-detection-1/test/images/img_20220504_201018_566_rotate_jpg.rf.e8fc361db6917b24cb20a4f7237d6625.jpg: 800x800 13.3ms\n",
            "image 155/166 /content/datasets/Substation-elements-detection-1/test/images/img_20220504_201115_018_rgb_jpg.rf.c21727fe196ad24fbb8af7368f43425d.jpg: 800x800 1 Current transformer, 13.1ms\n",
            "image 156/166 /content/datasets/Substation-elements-detection-1/test/images/img_20220504_201649_097_rgb_jpg.rf.a0fefe5a734093b12b4065a394947848.jpg: 800x800 1 Recloser, 13.1ms\n",
            "image 157/166 /content/datasets/Substation-elements-detection-1/test/images/img_20220504_201850_585_rotate_jpg.rf.89758f0657c655041ea7875afadff76f.jpg: 800x800 13.1ms\n",
            "image 158/166 /content/datasets/Substation-elements-detection-1/test/images/img_20220505_203724_413_rgb_jpg.rf.fe924089a29a7fd14a5f69791f5c17fe.jpg: 800x800 2 Reclosers, 13.1ms\n",
            "image 159/166 /content/datasets/Substation-elements-detection-1/test/images/img_20220505_203956_488_rgb_jpg.rf.6c77d567e3197054ae91691511549850.jpg: 800x800 2 Power transformers, 12.3ms\n",
            "image 160/166 /content/datasets/Substation-elements-detection-1/test/images/img_20220505_204708_595_rgb_jpg.rf.953773a84b31d5431a4f19e2d9143ca7.jpg: 800x800 12.3ms\n",
            "image 161/166 /content/datasets/Substation-elements-detection-1/test/images/img_20220505_205331_745_rgb_jpg.rf.317a755d46d2a9f56e0c12ef3294f646.jpg: 800x800 1 Power transformer, 12.4ms\n",
            "image 162/166 /content/datasets/Substation-elements-detection-1/test/images/img_20220506_202144_081_rotate_jpg.rf.8cb6dc0d0e5b238cc90accbc79f5bb67.jpg: 800x800 12.3ms\n",
            "image 163/166 /content/datasets/Substation-elements-detection-1/test/images/img_20220509_200708_481_rgb_jpg.rf.073ebf28483b7fb2565f1e6e42174d28.jpg: 800x800 1 Porcelain pin insulator, 3 Power transformers, 12.4ms\n",
            "image 164/166 /content/datasets/Substation-elements-detection-1/test/images/img_20220509_201125_789_rgb_jpg.rf.3178fe375acbaf54ba4baa237c87cd57.jpg: 800x800 2 Closed blade disconnect switchs, 4 Glass disc insulators, 7 Porcelain pin insulators, 1 Recloser, 12.3ms\n",
            "image 165/166 /content/datasets/Substation-elements-detection-1/test/images/img_20220513_170912_119_rgb_rotate_39LlKEg_jpg.rf.a365e4f50b1bbae10be64e67bfda879c.jpg: 800x800 5 Closed blade disconnect switchs, 8 Glass disc insulators, 12 Porcelain pin insulators, 1 Recloser, 11 Tripolar disconnect switchs, 12.2ms\n",
            "image 166/166 /content/datasets/Substation-elements-detection-1/test/images/img_20220518_132148_137_rgb_rotate_28gyNdN_jpg.rf.780f7873593937f0d2a932e964ba5be1.jpg: 800x800 8 Closed blade disconnect switchs, 5 Glass disc insulators, 27 Porcelain pin insulators, 1 Recloser, 12 Tripolar disconnect switchs, 12.2ms\n",
            "Speed: 0.7ms pre-process, 18.5ms inference, 6.2ms postprocess per image at shape (1, 3, 800, 800)\n",
            "Results saved to \u001b[1mruns/detect/predict2\u001b[0m\n"
          ]
        }
      ],
      "source": [
        "%cd {HOME}\n",
        "!yolo task=detect mode=predict model={HOME}/runs/detect/train/weights/best.pt conf=0.25 source={dataset.location}/test/images save=True"
      ]
    },
    {
      "cell_type": "markdown",
      "metadata": {
        "id": "mEYIo95n-I0S"
      },
      "source": [
        "**NOTE:** Let's take a look at few results."
      ]
    },
    {
      "cell_type": "code",
      "execution_count": 39,
      "metadata": {
        "id": "jbVjEtPAkz3j"
      },
      "outputs": [],
      "source": [
        "import glob\n",
        "from IPython.display import Image, display\n",
        "\n",
        "for image_path in glob.glob(f'{HOME}/runs/detect/predict3/*.jpg')[:3]:\n",
        "      display(Image(filename=image_path, width=600))\n",
        "      print(\"\\n\")"
      ]
    },
    {
      "cell_type": "markdown",
      "metadata": {
        "id": "j0tsVilOCPyq"
      },
      "source": [
        "## Deploy model on Roboflow\n",
        "\n",
        "Once you have finished training your YOLOv8 model, you’ll have a set of trained weights ready for use. These weights will be in the `/runs/detect/train/weights/best.pt` folder of your project. You can upload your model weights to Roboflow Deploy to use your trained weights on our infinitely scalable infrastructure.\n",
        "\n",
        "The `.deploy()` function in the [Roboflow pip package](https://docs.roboflow.com/python) now supports uploading YOLOv8 weights.\n",
        "\n",
        "To upload model weights, add the following code to the “Inference with Custom Model” section in the aforementioned notebook:"
      ]
    },
    {
      "cell_type": "code",
      "execution_count": 35,
      "metadata": {
        "id": "6EhBAJ2gCPZh",
        "colab": {
          "base_uri": "https://localhost:8080/"
        },
        "outputId": "21764c89-852e-4bb9-a854-46f221a216a1"
      },
      "outputs": [
        {
          "output_type": "stream",
          "name": "stdout",
          "text": [
            "Dependency ultralytics==8.0.196 is required but found version=8.0.20, to fix: `pip install ultralytics==8.0.196`\n",
            "Would you like to continue with the wrong version of ultralytics? y/n: y\n",
            "An error occured when getting the model upload URL: This version already has a trained model. Please generate and train a new version in order to upload model to Roboflow.\n"
          ]
        }
      ],
      "source": [
        "project.version(dataset.version).deploy(model_type=\"yolov8\", model_path=f\"{HOME}/runs/detect/train/\")"
      ]
    },
    {
      "cell_type": "code",
      "execution_count": 36,
      "metadata": {
        "id": "q5kOhjkmcV1l"
      },
      "outputs": [],
      "source": [
        "#While your deployment is processing, checkout the deployment docs to take your model to most destinations https://docs.roboflow.com/inference"
      ]
    },
    {
      "cell_type": "code",
      "execution_count": 37,
      "metadata": {
        "id": "I4bpUIibcV1l",
        "colab": {
          "base_uri": "https://localhost:8080/",
          "height": 407
        },
        "outputId": "41d75f18-9e64-4185-af7c-f77e1efc8f32"
      },
      "outputs": [
        {
          "output_type": "stream",
          "name": "stdout",
          "text": [
            "running inference on 2022-07-22_p4_P4_C043_X1434_Y0_Z-14_A401_E700_rgb_HD_jpg.rf.33bfa43ed68b9e5742940a9c638dd336.jpg\n"
          ]
        },
        {
          "output_type": "error",
          "ename": "HTTPError",
          "evalue": "ignored",
          "traceback": [
            "\u001b[0;31m---------------------------------------------------------------------------\u001b[0m",
            "\u001b[0;31mHTTPError\u001b[0m                                 Traceback (most recent call last)",
            "\u001b[0;32m<ipython-input-37-1ba6ac5d9ae3>\u001b[0m in \u001b[0;36m<cell line: 12>\u001b[0;34m()\u001b[0m\n\u001b[1;32m     10\u001b[0m \u001b[0mprint\u001b[0m\u001b[0;34m(\u001b[0m\u001b[0;34m\"running inference on \"\u001b[0m \u001b[0;34m+\u001b[0m \u001b[0mrandom_test_image\u001b[0m\u001b[0;34m)\u001b[0m\u001b[0;34m\u001b[0m\u001b[0;34m\u001b[0m\u001b[0m\n\u001b[1;32m     11\u001b[0m \u001b[0;34m\u001b[0m\u001b[0m\n\u001b[0;32m---> 12\u001b[0;31m \u001b[0mpred\u001b[0m \u001b[0;34m=\u001b[0m \u001b[0mmodel\u001b[0m\u001b[0;34m.\u001b[0m\u001b[0mpredict\u001b[0m\u001b[0;34m(\u001b[0m\u001b[0mtest_set_loc\u001b[0m \u001b[0;34m+\u001b[0m \u001b[0mrandom_test_image\u001b[0m\u001b[0;34m,\u001b[0m \u001b[0mconfidence\u001b[0m\u001b[0;34m=\u001b[0m\u001b[0;36m40\u001b[0m\u001b[0;34m,\u001b[0m \u001b[0moverlap\u001b[0m\u001b[0;34m=\u001b[0m\u001b[0;36m30\u001b[0m\u001b[0;34m)\u001b[0m\u001b[0;34m.\u001b[0m\u001b[0mjson\u001b[0m\u001b[0;34m(\u001b[0m\u001b[0;34m)\u001b[0m\u001b[0;34m\u001b[0m\u001b[0;34m\u001b[0m\u001b[0m\n\u001b[0m\u001b[1;32m     13\u001b[0m \u001b[0mpred\u001b[0m\u001b[0;34m\u001b[0m\u001b[0;34m\u001b[0m\u001b[0m\n",
            "\u001b[0;32m/usr/local/lib/python3.10/dist-packages/roboflow/models/object_detection.py\u001b[0m in \u001b[0;36mpredict\u001b[0;34m(self, image_path, hosted, format, classes, overlap, confidence, stroke, labels)\u001b[0m\n\u001b[1;32m    241\u001b[0m             \u001b[0mresp\u001b[0m \u001b[0;34m=\u001b[0m \u001b[0mrequests\u001b[0m\u001b[0;34m.\u001b[0m\u001b[0mpost\u001b[0m\u001b[0;34m(\u001b[0m\u001b[0mself\u001b[0m\u001b[0;34m.\u001b[0m\u001b[0mapi_url\u001b[0m\u001b[0;34m)\u001b[0m\u001b[0;34m\u001b[0m\u001b[0;34m\u001b[0m\u001b[0m\n\u001b[1;32m    242\u001b[0m \u001b[0;34m\u001b[0m\u001b[0m\n\u001b[0;32m--> 243\u001b[0;31m         \u001b[0mresp\u001b[0m\u001b[0;34m.\u001b[0m\u001b[0mraise_for_status\u001b[0m\u001b[0;34m(\u001b[0m\u001b[0;34m)\u001b[0m\u001b[0;34m\u001b[0m\u001b[0;34m\u001b[0m\u001b[0m\n\u001b[0m\u001b[1;32m    244\u001b[0m         \u001b[0;31m# Return a prediction group if JSON data\u001b[0m\u001b[0;34m\u001b[0m\u001b[0;34m\u001b[0m\u001b[0m\n\u001b[1;32m    245\u001b[0m         \u001b[0;32mif\u001b[0m \u001b[0mself\u001b[0m\u001b[0;34m.\u001b[0m\u001b[0mformat\u001b[0m \u001b[0;34m==\u001b[0m \u001b[0;34m\"json\"\u001b[0m\u001b[0;34m:\u001b[0m\u001b[0;34m\u001b[0m\u001b[0;34m\u001b[0m\u001b[0m\n",
            "\u001b[0;32m/usr/local/lib/python3.10/dist-packages/requests/models.py\u001b[0m in \u001b[0;36mraise_for_status\u001b[0;34m(self)\u001b[0m\n\u001b[1;32m   1019\u001b[0m \u001b[0;34m\u001b[0m\u001b[0m\n\u001b[1;32m   1020\u001b[0m         \u001b[0;32mif\u001b[0m \u001b[0mhttp_error_msg\u001b[0m\u001b[0;34m:\u001b[0m\u001b[0;34m\u001b[0m\u001b[0;34m\u001b[0m\u001b[0m\n\u001b[0;32m-> 1021\u001b[0;31m             \u001b[0;32mraise\u001b[0m \u001b[0mHTTPError\u001b[0m\u001b[0;34m(\u001b[0m\u001b[0mhttp_error_msg\u001b[0m\u001b[0;34m,\u001b[0m \u001b[0mresponse\u001b[0m\u001b[0;34m=\u001b[0m\u001b[0mself\u001b[0m\u001b[0;34m)\u001b[0m\u001b[0;34m\u001b[0m\u001b[0;34m\u001b[0m\u001b[0m\n\u001b[0m\u001b[1;32m   1022\u001b[0m \u001b[0;34m\u001b[0m\u001b[0m\n\u001b[1;32m   1023\u001b[0m     \u001b[0;32mdef\u001b[0m \u001b[0mclose\u001b[0m\u001b[0;34m(\u001b[0m\u001b[0mself\u001b[0m\u001b[0;34m)\u001b[0m\u001b[0;34m:\u001b[0m\u001b[0;34m\u001b[0m\u001b[0;34m\u001b[0m\u001b[0m\n",
            "\u001b[0;31mHTTPError\u001b[0m: 500 Server Error: Internal Server Error for url: https://detect.roboflow.com/substation-elements-detection/1?api_key=237qf1C0rTD5fdpeJYtK&name=YOUR_IMAGE.jpg&overlap=30&confidence=40&stroke=1&labels=false&format=json"
          ]
        }
      ],
      "source": [
        "#Run inference on your model on a persistant, auto-scaling, cloud API\n",
        "\n",
        "#load model\n",
        "model = project.version(dataset.version).model\n",
        "\n",
        "#choose random test set image\n",
        "import os, random\n",
        "test_set_loc = dataset.location + \"/test/images/\"\n",
        "random_test_image = random.choice(os.listdir(test_set_loc))\n",
        "print(\"running inference on \" + random_test_image)\n",
        "\n",
        "pred = model.predict(test_set_loc + random_test_image, confidence=40, overlap=30).json()\n",
        "pred"
      ]
    },
    {
      "cell_type": "markdown",
      "metadata": {
        "id": "_SbkO8dgtaCT"
      },
      "source": [
        "# Deploy Your Model to the Edge\n",
        "\n",
        "In addition to using the Roboflow hosted API for deployment, you can use [Roboflow Inference](https://inference.roboflow.com), an open source inference solution that has powered millions of API calls in production environments. Inference works with CPU and GPU, giving you immediate access to a range of devices, from the NVIDIA Jetson to TRT-compatible devices to ARM CPU devices.\n",
        "\n",
        "With Roboflow Inference, you can self-host and deploy your model on-device. You can deploy applications using the [Inference Docker containers](https://inference.roboflow.com/quickstart/docker/) or the pip package.\n",
        "\n",
        "For example, to install Inference on a device with an NVIDIA GPU, we can use:\n",
        "\n",
        "```\n",
        "docker pull roboflow/roboflow-inference-server-gpu\n",
        "```\n",
        "\n",
        "Then we can run inference via HTTP:\n",
        "\n",
        "```python\n",
        "import requests\n",
        "\n",
        "workspace_id = \"\"\n",
        "model_id = \"\"\n",
        "image_url = \"\"\n",
        "confidence = 0.75\n",
        "api_key = \"\"\n",
        "\n",
        "infer_payload = {\n",
        "    \"image\": {\n",
        "        \"type\": \"url\",\n",
        "        \"value\": image_url,\n",
        "    },\n",
        "    \"confidence\": confidence,\n",
        "    \"iou_threshold\": iou_thresh,\n",
        "    \"api_key\": api_key,\n",
        "}\n",
        "res = requests.post(\n",
        "    f\"http://localhost:9001/{workspace_id}/{model_id}\",\n",
        "    json=infer_object_detection_payload,\n",
        ")\n",
        "\n",
        "predictions = res.json()\n",
        "```\n",
        "\n",
        "Above, set your Roboflow workspace ID, model ID, and API key.\n",
        "\n",
        "- [Find your workspace and model ID](https://docs.roboflow.com/api-reference/workspace-and-project-ids?ref=blog.roboflow.com)\n",
        "- [Find your API key](https://docs.roboflow.com/api-reference/authentication?ref=blog.roboflow.com#retrieve-an-api-key)\n",
        "\n",
        "Also, set the URL of an image on which you want to run inference. This can be a local file.\n",
        "\n",
        "_To use your YOLOv5 model commercially with Inference, you will need a Roboflow Enterprise license, through which you gain a pass-through license for using YOLOv5. An enterprise license also grants you access to features like advanced device management, multi-model containers, auto-batch inference, and more._"
      ]
    },
    {
      "cell_type": "code",
      "source": [
        "!yolo task=detect mode=predict model={HOME}/runs/detect/train/weights/best.pt conf=0.25 source=/content/08fdd33_4.mp4"
      ],
      "metadata": {
        "id": "XfVcB89t_pMg"
      },
      "execution_count": null,
      "outputs": []
    }
  ],
  "metadata": {
    "accelerator": "GPU",
    "colab": {
      "provenance": [],
      "include_colab_link": true
    },
    "gpuClass": "standard",
    "kernelspec": {
      "display_name": "Python 3",
      "name": "python3"
    },
    "language_info": {
      "name": "python"
    }
  },
  "nbformat": 4,
  "nbformat_minor": 0
}